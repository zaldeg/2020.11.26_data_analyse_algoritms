{
  "nbformat": 4,
  "nbformat_minor": 0,
  "metadata": {
    "kernelspec": {
      "display_name": "Python 3",
      "language": "python",
      "name": "python3"
    },
    "language_info": {
      "codemirror_mode": {
        "name": "ipython",
        "version": 3
      },
      "file_extension": ".py",
      "mimetype": "text/x-python",
      "name": "python",
      "nbconvert_exporter": "python",
      "pygments_lexer": "ipython3",
      "version": "3.8.5-final"
    },
    "colab": {
      "name": "Lesson_6(edited).ipynb",
      "provenance": [],
      "collapsed_sections": [
        "Rg5ilDbTbshs",
        "Z2tMUhhXbsjK"
      ]
    }
  },
  "cells": [
    {
      "cell_type": "code",
      "metadata": {
        "id": "Qk-74OFhbshx"
      },
      "source": [
        "from sklearn.tree import DecisionTreeRegressor\n",
        "\n",
        "from sklearn import model_selection\n",
        "import numpy as np"
      ],
      "execution_count": 406,
      "outputs": []
    },
    {
      "cell_type": "markdown",
      "metadata": {
        "id": "LYD1kLOibsh0"
      },
      "source": [
        "Используем один из \"игрушечных\" датасетов из той же библиотеки."
      ]
    },
    {
      "cell_type": "code",
      "metadata": {
        "id": "eDZbSvqMbsh1"
      },
      "source": [
        "from sklearn.datasets import load_diabetes"
      ],
      "execution_count": 407,
      "outputs": []
    },
    {
      "cell_type": "code",
      "metadata": {
        "id": "leu8bBI7bsh6"
      },
      "source": [
        "X, y = load_diabetes(return_X_y=True)"
      ],
      "execution_count": 408,
      "outputs": []
    },
    {
      "cell_type": "markdown",
      "metadata": {
        "id": "cz_JhiIpbsh8"
      },
      "source": [
        "Разделим выборку на обучающую и тестовую в соотношении 75/25."
      ]
    },
    {
      "cell_type": "code",
      "metadata": {
        "id": "ExZPR9FLbsh9"
      },
      "source": [
        "X_train, X_test, y_train, y_test = model_selection.train_test_split(X, y, test_size=0.25)\n",
        "X_train.shape"
      ],
      "execution_count": 409,
      "outputs": [
        {
          "output_type": "execute_result",
          "data": {
            "text/plain": [
              "(331, 10)"
            ]
          },
          "metadata": {},
          "execution_count": 409
        }
      ]
    },
    {
      "cell_type": "markdown",
      "metadata": {
        "id": "7xJCdggZbsh_"
      },
      "source": [
        "Напишем функцию, реализующую предсказание в градиентном бустинге."
      ]
    },
    {
      "cell_type": "code",
      "metadata": {
        "id": "wU_Rkc63bsiA"
      },
      "source": [
        "def gb_predict(X, trees_list, coef_list, eta):\n",
        "    # Реализуемый алгоритм градиентного бустинга будет инициализироваться нулевыми значениями,\n",
        "    # поэтому все деревья из списка trees_list уже являются дополнительными и при предсказании прибавляются с шагом eta\n",
        "    return np.array([sum([eta* coef * alg.predict([x])[0] for alg, coef in zip(trees_list, coef_list)]) for x in X])"
      ],
      "execution_count": 410,
      "outputs": []
    },
    {
      "cell_type": "markdown",
      "metadata": {
        "id": "6gZvsyfSbsiD"
      },
      "source": [
        "В качестве функционала ошибки будем использовать среднеквадратичную ошибку. Реализуем соответствующую функцию."
      ]
    },
    {
      "cell_type": "code",
      "metadata": {
        "id": "0xbjFIEKbsiE"
      },
      "source": [
        "def mean_squared_error(y_real, prediction):\n",
        "    return (sum((y_real - prediction)**2)) / len(y_real)"
      ],
      "execution_count": 411,
      "outputs": []
    },
    {
      "cell_type": "code",
      "metadata": {
        "id": "WRaZEd3ebsiI"
      },
      "source": [
        "def bias(y, z):\n",
        "    return (y - z)"
      ],
      "execution_count": 412,
      "outputs": []
    },
    {
      "cell_type": "markdown",
      "metadata": {
        "id": "ut-7dBgVbsiK"
      },
      "source": [
        "Реализуем функцию обучения градиентного бустинга."
      ]
    },
    {
      "cell_type": "code",
      "execution_count": 413,
      "metadata": {},
      "outputs": [],
      "source": [
        "import random\n",
        "def subsample(len_sample, percent=0.5):\n",
        "    indexes = np.array(list(range(len_sample)))\n",
        "    random.shuffle(indexes)\n",
        "    return indexes[:round(len_sample * percent)]"
      ]
    },
    {
      "cell_type": "code",
      "metadata": {
        "id": "HoIdAoPYbsiL"
      },
      "source": [
        "def gb_fit(n_trees, max_depth, X_train, X_test, y_train, y_test, coefs, eta, percent=1):\n",
        "    \n",
        "    # Деревья будем записывать в список\n",
        "    trees = []\n",
        "    \n",
        "    # Будем записывать ошибки на обучающей и тестовой выборке на каждой итерации в список\n",
        "    train_errors = []\n",
        "    test_errors = []\n",
        "\n",
        "   \n",
        "    for i in range(n_trees):\n",
        "        tree = DecisionTreeRegressor(max_depth=max_depth, random_state=42)\n",
        "         #выбираем произвольно percent процентов выборки\n",
        "\n",
        "        subsample_indexes = subsample(X_train.shape[0], percent)\n",
        "        X_train_subset = X_train[subsample_indexes, :]\n",
        "        y_train_subset = y_train[subsample_indexes]\n",
        "        # инициализируем бустинг начальным алгоритмом, возвращающим ноль, \n",
        "        # поэтому первый алгоритм просто обучаем на выборке и добавляем в список\n",
        "\n",
        "        if len(trees) == 0:\n",
        "            # обучаем первое дерево на обучающей выборке\n",
        "            tree.fit(X_train_subset, y_train_subset)\n",
        "            \n",
        "            train_errors.append(mean_squared_error(y_train, gb_predict(X_train, trees, coefs, eta)))\n",
        "            test_errors.append(mean_squared_error(y_test, gb_predict(X_test, trees, coefs, eta)))\n",
        "        else:\n",
        "            # Получим ответы на текущей композиции\n",
        "            target = gb_predict(X_train_subset, trees, coefs, eta)\n",
        "            \n",
        "            # алгоритмы начиная со второго обучаем на сдвиг\n",
        "            tree.fit(X_train_subset, bias(y_train_subset, target))\n",
        "            \n",
        "            train_errors.append(mean_squared_error(y_train, gb_predict(X_train, trees, coefs, eta)))\n",
        "            test_errors.append(mean_squared_error(y_test, gb_predict(X_test, trees, coefs, eta)))\n",
        "\n",
        "        trees.append(tree)\n",
        "        \n",
        "    return trees, train_errors, test_errors"
      ],
      "execution_count": 414,
      "outputs": []
    },
    {
      "cell_type": "markdown",
      "metadata": {
        "id": "0vkHFhhzbsiN"
      },
      "source": [
        "Теперь обучим несколько моделей с разными параметрами и исследуем их поведение."
      ]
    },
    {
      "cell_type": "code",
      "metadata": {
        "id": "2WvxluSlbsiO"
      },
      "source": [
        "# Число деревьев в ансамбле\n",
        "n_trees = 50\n",
        "\n",
        "# для простоты примем коэффициенты равными 1\n",
        "coefs = [1] * n_trees\n",
        "\n",
        "# Максимальная глубина деревьев\n",
        "max_depth = 3\n",
        "\n",
        "# Шаг\n",
        "eta = 0.1\n",
        "\n",
        "trees, train_errors, test_errors = gb_fit(n_trees, max_depth, X_train, X_test, y_train, y_test, coefs, eta, percent=0.5)"
      ],
      "execution_count": 415,
      "outputs": []
    },
    {
      "cell_type": "code",
      "metadata": {
        "id": "GDMFn3R-bsiR"
      },
      "source": [
        "def evaluate_alg(X_train, X_test, y_train, y_test, trees, coefs, eta):\n",
        "    train_prediction = gb_predict(X_train, trees, coefs, eta)\n",
        "\n",
        "    print(f'Ошибка алгоритма из {n_trees} деревьев глубиной {max_depth} \\\n",
        "    с шагом {eta} на тренировочной выборке: {mean_squared_error(y_train, train_prediction)}')\n",
        "\n",
        "    test_prediction = gb_predict(X_test, trees, coefs, eta)\n",
        "\n",
        "    print(f'Ошибка алгоритма из {n_trees} деревьев глубиной {max_depth} \\\n",
        "    с шагом {eta} на тестовой выборке: {mean_squared_error(y_test, test_prediction)}')"
      ],
      "execution_count": 416,
      "outputs": []
    },
    {
      "cell_type": "code",
      "metadata": {
        "id": "WEBbjCynbsiV",
        "colab": {
          "base_uri": "https://localhost:8080/",
          "height": 52
        },
        "outputId": "b3781ad6-6705-4b77-fba5-1ebbb5367c73"
      },
      "source": [
        "evaluate_alg(X_train, X_test, y_train, y_test, trees, coefs, eta)"
      ],
      "execution_count": 417,
      "outputs": [
        {
          "output_type": "stream",
          "name": "stdout",
          "text": [
            "Ошибка алгоритма из 50 деревьев глубиной 3     с шагом 0.1 на тренировочной выборке: 1407.5374975240832\n",
            "Ошибка алгоритма из 50 деревьев глубиной 3     с шагом 0.1 на тестовой выборке: 3381.1198530916927\n"
          ]
        }
      ]
    },
    {
      "cell_type": "markdown",
      "metadata": {
        "id": "TluGn7Iubsib"
      },
      "source": [
        "Построим графики зависимости ошибки на обучающей и тестовой выборках от числа итераций."
      ]
    },
    {
      "cell_type": "code",
      "metadata": {
        "id": "QXrSdSgjbsic"
      },
      "source": [
        "import matplotlib.pyplot as plt"
      ],
      "execution_count": 418,
      "outputs": []
    },
    {
      "cell_type": "code",
      "metadata": {
        "id": "gjDdKkgObsif"
      },
      "source": [
        "def get_error_plot(n_trees, train_err, test_err):\n",
        "    plt.xlabel('Iteration number')\n",
        "    plt.ylabel('MSE')\n",
        "    plt.xlim(0, n_trees)\n",
        "    plt.plot(list(range(n_trees)), train_err, label='train error')\n",
        "    plt.plot(list(range(n_trees)), test_err, label='test error')\n",
        "    plt.legend(loc='upper right')\n",
        "    plt.show()"
      ],
      "execution_count": 419,
      "outputs": []
    },
    {
      "cell_type": "code",
      "execution_count": 420,
      "metadata": {},
      "outputs": [],
      "source": [
        "def get_errors_plot(n_trees, train_err, train_err2, train_err3, train_err4):\n",
        "    plt.xlabel('Iteration number')\n",
        "    plt.ylabel('MSE')\n",
        "    plt.xlim(0, n_trees)\n",
        "    plt.plot(list(range(n_trees)), train_err, label='1')\n",
        "    plt.plot(list(range(n_trees)), train_err2, label='0.5')\n",
        "    plt.plot(list(range(n_trees)), train_err3, label='0.05')\n",
        "    plt.plot(list(range(n_trees)), train_err4, label='0.005')\n",
        "    plt.legend(loc='upper right')\n",
        "    plt.show()"
      ]
    },
    {
      "cell_type": "code",
      "execution_count": 421,
      "metadata": {},
      "outputs": [],
      "source": [
        "n_trees = 100\n",
        "coefs = [1] * n_trees"
      ]
    },
    {
      "cell_type": "code",
      "execution_count": 422,
      "metadata": {},
      "outputs": [
        {
          "output_type": "stream",
          "name": "stdout",
          "text": [
            "Wall time: 3min 56s\n"
          ]
        }
      ],
      "source": [
        "%%time\n",
        "trees1, train_errors1, test_errors1 = gb_fit(n_trees, max_depth, X_train, X_test, y_train, y_test, coefs, eta, percent=1)"
      ]
    },
    {
      "cell_type": "code",
      "execution_count": 423,
      "metadata": {},
      "outputs": [
        {
          "output_type": "stream",
          "name": "stdout",
          "text": [
            "Wall time: 3min 14s\n"
          ]
        }
      ],
      "source": [
        "%%time\n",
        "trees2, train_errors2, test_errors2 = gb_fit(n_trees, max_depth, X_train, X_test, y_train, y_test, coefs, eta, percent=0.5)"
      ]
    },
    {
      "cell_type": "code",
      "execution_count": 424,
      "metadata": {},
      "outputs": [
        {
          "output_type": "stream",
          "name": "stdout",
          "text": [
            "Wall time: 2min 23s\n"
          ]
        }
      ],
      "source": [
        "%%time\n",
        "trees3, train_errors3, test_errors3 = gb_fit(n_trees, max_depth, X_train, X_test, y_train, y_test, coefs, eta, percent=0.05)"
      ]
    },
    {
      "cell_type": "code",
      "execution_count": 425,
      "metadata": {},
      "outputs": [
        {
          "output_type": "stream",
          "name": "stdout",
          "text": [
            "Wall time: 2min 17s\n"
          ]
        }
      ],
      "source": [
        "%%time\n",
        "trees4, train_errors4, test_errors4 = gb_fit(n_trees, max_depth, X_train, X_test, y_train, y_test, coefs, eta, percent=0.005)"
      ]
    },
    {
      "source": [
        "Размер ошибки на тестовой выборке в зависимости от количества деревьев в ансамбле. Каждый график соответствует размеру используемой выборки при обучении деревьев. (1 - вся выборка, 0.5 - половина итд)"
      ],
      "cell_type": "markdown",
      "metadata": {}
    },
    {
      "cell_type": "code",
      "execution_count": 427,
      "metadata": {},
      "outputs": [
        {
          "output_type": "display_data",
          "data": {
            "text/plain": "<Figure size 432x288 with 1 Axes>",
            "image/svg+xml": "<?xml version=\"1.0\" encoding=\"utf-8\" standalone=\"no\"?>\r\n<!DOCTYPE svg PUBLIC \"-//W3C//DTD SVG 1.1//EN\"\r\n  \"http://www.w3.org/Graphics/SVG/1.1/DTD/svg11.dtd\">\r\n<!-- Created with matplotlib (https://matplotlib.org/) -->\r\n<svg height=\"262.19625pt\" version=\"1.1\" viewBox=\"0 0 411.234375 262.19625\" width=\"411.234375pt\" xmlns=\"http://www.w3.org/2000/svg\" xmlns:xlink=\"http://www.w3.org/1999/xlink\">\r\n <metadata>\r\n  <rdf:RDF xmlns:cc=\"http://creativecommons.org/ns#\" xmlns:dc=\"http://purl.org/dc/elements/1.1/\" xmlns:rdf=\"http://www.w3.org/1999/02/22-rdf-syntax-ns#\">\r\n   <cc:Work>\r\n    <dc:type rdf:resource=\"http://purl.org/dc/dcmitype/StillImage\"/>\r\n    <dc:date>2020-12-18T00:45:30.552286</dc:date>\r\n    <dc:format>image/svg+xml</dc:format>\r\n    <dc:creator>\r\n     <cc:Agent>\r\n      <dc:title>Matplotlib v3.3.0, https://matplotlib.org/</dc:title>\r\n     </cc:Agent>\r\n    </dc:creator>\r\n   </cc:Work>\r\n  </rdf:RDF>\r\n </metadata>\r\n <defs>\r\n  <style type=\"text/css\">*{stroke-linecap:butt;stroke-linejoin:round;}</style>\r\n </defs>\r\n <g id=\"figure_1\">\r\n  <g id=\"patch_1\">\r\n   <path d=\"M 0 262.19625 \r\nL 411.234375 262.19625 \r\nL 411.234375 0 \r\nL 0 0 \r\nz\r\n\" style=\"fill:none;\"/>\r\n  </g>\r\n  <g id=\"axes_1\">\r\n   <g id=\"patch_2\">\r\n    <path d=\"M 59.690625 224.64 \r\nL 394.490625 224.64 \r\nL 394.490625 7.2 \r\nL 59.690625 7.2 \r\nz\r\n\" style=\"fill:#ffffff;\"/>\r\n   </g>\r\n   <g id=\"matplotlib.axis_1\">\r\n    <g id=\"xtick_1\">\r\n     <g id=\"line2d_1\">\r\n      <defs>\r\n       <path d=\"M 0 0 \r\nL 0 3.5 \r\n\" id=\"m799f9ba3e2\" style=\"stroke:#000000;stroke-width:0.8;\"/>\r\n      </defs>\r\n      <g>\r\n       <use style=\"stroke:#000000;stroke-width:0.8;\" x=\"59.690625\" xlink:href=\"#m799f9ba3e2\" y=\"224.64\"/>\r\n      </g>\r\n     </g>\r\n     <g id=\"text_1\">\r\n      <!-- 0 -->\r\n      <g transform=\"translate(56.509375 239.238437)scale(0.1 -0.1)\">\r\n       <defs>\r\n        <path d=\"M 31.78125 66.40625 \r\nQ 24.171875 66.40625 20.328125 58.90625 \r\nQ 16.5 51.421875 16.5 36.375 \r\nQ 16.5 21.390625 20.328125 13.890625 \r\nQ 24.171875 6.390625 31.78125 6.390625 \r\nQ 39.453125 6.390625 43.28125 13.890625 \r\nQ 47.125 21.390625 47.125 36.375 \r\nQ 47.125 51.421875 43.28125 58.90625 \r\nQ 39.453125 66.40625 31.78125 66.40625 \r\nz\r\nM 31.78125 74.21875 \r\nQ 44.046875 74.21875 50.515625 64.515625 \r\nQ 56.984375 54.828125 56.984375 36.375 \r\nQ 56.984375 17.96875 50.515625 8.265625 \r\nQ 44.046875 -1.421875 31.78125 -1.421875 \r\nQ 19.53125 -1.421875 13.0625 8.265625 \r\nQ 6.59375 17.96875 6.59375 36.375 \r\nQ 6.59375 54.828125 13.0625 64.515625 \r\nQ 19.53125 74.21875 31.78125 74.21875 \r\nz\r\n\" id=\"DejaVuSans-48\"/>\r\n       </defs>\r\n       <use xlink:href=\"#DejaVuSans-48\"/>\r\n      </g>\r\n     </g>\r\n    </g>\r\n    <g id=\"xtick_2\">\r\n     <g id=\"line2d_2\">\r\n      <g>\r\n       <use style=\"stroke:#000000;stroke-width:0.8;\" x=\"126.650625\" xlink:href=\"#m799f9ba3e2\" y=\"224.64\"/>\r\n      </g>\r\n     </g>\r\n     <g id=\"text_2\">\r\n      <!-- 20 -->\r\n      <g transform=\"translate(120.288125 239.238437)scale(0.1 -0.1)\">\r\n       <defs>\r\n        <path d=\"M 19.1875 8.296875 \r\nL 53.609375 8.296875 \r\nL 53.609375 0 \r\nL 7.328125 0 \r\nL 7.328125 8.296875 \r\nQ 12.9375 14.109375 22.625 23.890625 \r\nQ 32.328125 33.6875 34.8125 36.53125 \r\nQ 39.546875 41.84375 41.421875 45.53125 \r\nQ 43.3125 49.21875 43.3125 52.78125 \r\nQ 43.3125 58.59375 39.234375 62.25 \r\nQ 35.15625 65.921875 28.609375 65.921875 \r\nQ 23.96875 65.921875 18.8125 64.3125 \r\nQ 13.671875 62.703125 7.8125 59.421875 \r\nL 7.8125 69.390625 \r\nQ 13.765625 71.78125 18.9375 73 \r\nQ 24.125 74.21875 28.421875 74.21875 \r\nQ 39.75 74.21875 46.484375 68.546875 \r\nQ 53.21875 62.890625 53.21875 53.421875 \r\nQ 53.21875 48.921875 51.53125 44.890625 \r\nQ 49.859375 40.875 45.40625 35.40625 \r\nQ 44.1875 33.984375 37.640625 27.21875 \r\nQ 31.109375 20.453125 19.1875 8.296875 \r\nz\r\n\" id=\"DejaVuSans-50\"/>\r\n       </defs>\r\n       <use xlink:href=\"#DejaVuSans-50\"/>\r\n       <use x=\"63.623047\" xlink:href=\"#DejaVuSans-48\"/>\r\n      </g>\r\n     </g>\r\n    </g>\r\n    <g id=\"xtick_3\">\r\n     <g id=\"line2d_3\">\r\n      <g>\r\n       <use style=\"stroke:#000000;stroke-width:0.8;\" x=\"193.610625\" xlink:href=\"#m799f9ba3e2\" y=\"224.64\"/>\r\n      </g>\r\n     </g>\r\n     <g id=\"text_3\">\r\n      <!-- 40 -->\r\n      <g transform=\"translate(187.248125 239.238437)scale(0.1 -0.1)\">\r\n       <defs>\r\n        <path d=\"M 37.796875 64.3125 \r\nL 12.890625 25.390625 \r\nL 37.796875 25.390625 \r\nz\r\nM 35.203125 72.90625 \r\nL 47.609375 72.90625 \r\nL 47.609375 25.390625 \r\nL 58.015625 25.390625 \r\nL 58.015625 17.1875 \r\nL 47.609375 17.1875 \r\nL 47.609375 0 \r\nL 37.796875 0 \r\nL 37.796875 17.1875 \r\nL 4.890625 17.1875 \r\nL 4.890625 26.703125 \r\nz\r\n\" id=\"DejaVuSans-52\"/>\r\n       </defs>\r\n       <use xlink:href=\"#DejaVuSans-52\"/>\r\n       <use x=\"63.623047\" xlink:href=\"#DejaVuSans-48\"/>\r\n      </g>\r\n     </g>\r\n    </g>\r\n    <g id=\"xtick_4\">\r\n     <g id=\"line2d_4\">\r\n      <g>\r\n       <use style=\"stroke:#000000;stroke-width:0.8;\" x=\"260.570625\" xlink:href=\"#m799f9ba3e2\" y=\"224.64\"/>\r\n      </g>\r\n     </g>\r\n     <g id=\"text_4\">\r\n      <!-- 60 -->\r\n      <g transform=\"translate(254.208125 239.238437)scale(0.1 -0.1)\">\r\n       <defs>\r\n        <path d=\"M 33.015625 40.375 \r\nQ 26.375 40.375 22.484375 35.828125 \r\nQ 18.609375 31.296875 18.609375 23.390625 \r\nQ 18.609375 15.53125 22.484375 10.953125 \r\nQ 26.375 6.390625 33.015625 6.390625 \r\nQ 39.65625 6.390625 43.53125 10.953125 \r\nQ 47.40625 15.53125 47.40625 23.390625 \r\nQ 47.40625 31.296875 43.53125 35.828125 \r\nQ 39.65625 40.375 33.015625 40.375 \r\nz\r\nM 52.59375 71.296875 \r\nL 52.59375 62.3125 \r\nQ 48.875 64.0625 45.09375 64.984375 \r\nQ 41.3125 65.921875 37.59375 65.921875 \r\nQ 27.828125 65.921875 22.671875 59.328125 \r\nQ 17.53125 52.734375 16.796875 39.40625 \r\nQ 19.671875 43.65625 24.015625 45.921875 \r\nQ 28.375 48.1875 33.59375 48.1875 \r\nQ 44.578125 48.1875 50.953125 41.515625 \r\nQ 57.328125 34.859375 57.328125 23.390625 \r\nQ 57.328125 12.15625 50.6875 5.359375 \r\nQ 44.046875 -1.421875 33.015625 -1.421875 \r\nQ 20.359375 -1.421875 13.671875 8.265625 \r\nQ 6.984375 17.96875 6.984375 36.375 \r\nQ 6.984375 53.65625 15.1875 63.9375 \r\nQ 23.390625 74.21875 37.203125 74.21875 \r\nQ 40.921875 74.21875 44.703125 73.484375 \r\nQ 48.484375 72.75 52.59375 71.296875 \r\nz\r\n\" id=\"DejaVuSans-54\"/>\r\n       </defs>\r\n       <use xlink:href=\"#DejaVuSans-54\"/>\r\n       <use x=\"63.623047\" xlink:href=\"#DejaVuSans-48\"/>\r\n      </g>\r\n     </g>\r\n    </g>\r\n    <g id=\"xtick_5\">\r\n     <g id=\"line2d_5\">\r\n      <g>\r\n       <use style=\"stroke:#000000;stroke-width:0.8;\" x=\"327.530625\" xlink:href=\"#m799f9ba3e2\" y=\"224.64\"/>\r\n      </g>\r\n     </g>\r\n     <g id=\"text_5\">\r\n      <!-- 80 -->\r\n      <g transform=\"translate(321.168125 239.238437)scale(0.1 -0.1)\">\r\n       <defs>\r\n        <path d=\"M 31.78125 34.625 \r\nQ 24.75 34.625 20.71875 30.859375 \r\nQ 16.703125 27.09375 16.703125 20.515625 \r\nQ 16.703125 13.921875 20.71875 10.15625 \r\nQ 24.75 6.390625 31.78125 6.390625 \r\nQ 38.8125 6.390625 42.859375 10.171875 \r\nQ 46.921875 13.96875 46.921875 20.515625 \r\nQ 46.921875 27.09375 42.890625 30.859375 \r\nQ 38.875 34.625 31.78125 34.625 \r\nz\r\nM 21.921875 38.8125 \r\nQ 15.578125 40.375 12.03125 44.71875 \r\nQ 8.5 49.078125 8.5 55.328125 \r\nQ 8.5 64.0625 14.71875 69.140625 \r\nQ 20.953125 74.21875 31.78125 74.21875 \r\nQ 42.671875 74.21875 48.875 69.140625 \r\nQ 55.078125 64.0625 55.078125 55.328125 \r\nQ 55.078125 49.078125 51.53125 44.71875 \r\nQ 48 40.375 41.703125 38.8125 \r\nQ 48.828125 37.15625 52.796875 32.3125 \r\nQ 56.78125 27.484375 56.78125 20.515625 \r\nQ 56.78125 9.90625 50.3125 4.234375 \r\nQ 43.84375 -1.421875 31.78125 -1.421875 \r\nQ 19.734375 -1.421875 13.25 4.234375 \r\nQ 6.78125 9.90625 6.78125 20.515625 \r\nQ 6.78125 27.484375 10.78125 32.3125 \r\nQ 14.796875 37.15625 21.921875 38.8125 \r\nz\r\nM 18.3125 54.390625 \r\nQ 18.3125 48.734375 21.84375 45.5625 \r\nQ 25.390625 42.390625 31.78125 42.390625 \r\nQ 38.140625 42.390625 41.71875 45.5625 \r\nQ 45.3125 48.734375 45.3125 54.390625 \r\nQ 45.3125 60.0625 41.71875 63.234375 \r\nQ 38.140625 66.40625 31.78125 66.40625 \r\nQ 25.390625 66.40625 21.84375 63.234375 \r\nQ 18.3125 60.0625 18.3125 54.390625 \r\nz\r\n\" id=\"DejaVuSans-56\"/>\r\n       </defs>\r\n       <use xlink:href=\"#DejaVuSans-56\"/>\r\n       <use x=\"63.623047\" xlink:href=\"#DejaVuSans-48\"/>\r\n      </g>\r\n     </g>\r\n    </g>\r\n    <g id=\"xtick_6\">\r\n     <g id=\"line2d_6\">\r\n      <g>\r\n       <use style=\"stroke:#000000;stroke-width:0.8;\" x=\"394.490625\" xlink:href=\"#m799f9ba3e2\" y=\"224.64\"/>\r\n      </g>\r\n     </g>\r\n     <g id=\"text_6\">\r\n      <!-- 100 -->\r\n      <g transform=\"translate(384.946875 239.238437)scale(0.1 -0.1)\">\r\n       <defs>\r\n        <path d=\"M 12.40625 8.296875 \r\nL 28.515625 8.296875 \r\nL 28.515625 63.921875 \r\nL 10.984375 60.40625 \r\nL 10.984375 69.390625 \r\nL 28.421875 72.90625 \r\nL 38.28125 72.90625 \r\nL 38.28125 8.296875 \r\nL 54.390625 8.296875 \r\nL 54.390625 0 \r\nL 12.40625 0 \r\nz\r\n\" id=\"DejaVuSans-49\"/>\r\n       </defs>\r\n       <use xlink:href=\"#DejaVuSans-49\"/>\r\n       <use x=\"63.623047\" xlink:href=\"#DejaVuSans-48\"/>\r\n       <use x=\"127.246094\" xlink:href=\"#DejaVuSans-48\"/>\r\n      </g>\r\n     </g>\r\n    </g>\r\n    <g id=\"text_7\">\r\n     <!-- Iteration number -->\r\n     <g transform=\"translate(184.778906 252.916562)scale(0.1 -0.1)\">\r\n      <defs>\r\n       <path d=\"M 9.8125 72.90625 \r\nL 19.671875 72.90625 \r\nL 19.671875 0 \r\nL 9.8125 0 \r\nz\r\n\" id=\"DejaVuSans-73\"/>\r\n       <path d=\"M 18.3125 70.21875 \r\nL 18.3125 54.6875 \r\nL 36.8125 54.6875 \r\nL 36.8125 47.703125 \r\nL 18.3125 47.703125 \r\nL 18.3125 18.015625 \r\nQ 18.3125 11.328125 20.140625 9.421875 \r\nQ 21.96875 7.515625 27.59375 7.515625 \r\nL 36.8125 7.515625 \r\nL 36.8125 0 \r\nL 27.59375 0 \r\nQ 17.1875 0 13.234375 3.875 \r\nQ 9.28125 7.765625 9.28125 18.015625 \r\nL 9.28125 47.703125 \r\nL 2.6875 47.703125 \r\nL 2.6875 54.6875 \r\nL 9.28125 54.6875 \r\nL 9.28125 70.21875 \r\nz\r\n\" id=\"DejaVuSans-116\"/>\r\n       <path d=\"M 56.203125 29.59375 \r\nL 56.203125 25.203125 \r\nL 14.890625 25.203125 \r\nQ 15.484375 15.921875 20.484375 11.0625 \r\nQ 25.484375 6.203125 34.421875 6.203125 \r\nQ 39.59375 6.203125 44.453125 7.46875 \r\nQ 49.3125 8.734375 54.109375 11.28125 \r\nL 54.109375 2.78125 \r\nQ 49.265625 0.734375 44.1875 -0.34375 \r\nQ 39.109375 -1.421875 33.890625 -1.421875 \r\nQ 20.796875 -1.421875 13.15625 6.1875 \r\nQ 5.515625 13.8125 5.515625 26.8125 \r\nQ 5.515625 40.234375 12.765625 48.109375 \r\nQ 20.015625 56 32.328125 56 \r\nQ 43.359375 56 49.78125 48.890625 \r\nQ 56.203125 41.796875 56.203125 29.59375 \r\nz\r\nM 47.21875 32.234375 \r\nQ 47.125 39.59375 43.09375 43.984375 \r\nQ 39.0625 48.390625 32.421875 48.390625 \r\nQ 24.90625 48.390625 20.390625 44.140625 \r\nQ 15.875 39.890625 15.1875 32.171875 \r\nz\r\n\" id=\"DejaVuSans-101\"/>\r\n       <path d=\"M 41.109375 46.296875 \r\nQ 39.59375 47.171875 37.8125 47.578125 \r\nQ 36.03125 48 33.890625 48 \r\nQ 26.265625 48 22.1875 43.046875 \r\nQ 18.109375 38.09375 18.109375 28.8125 \r\nL 18.109375 0 \r\nL 9.078125 0 \r\nL 9.078125 54.6875 \r\nL 18.109375 54.6875 \r\nL 18.109375 46.1875 \r\nQ 20.953125 51.171875 25.484375 53.578125 \r\nQ 30.03125 56 36.53125 56 \r\nQ 37.453125 56 38.578125 55.875 \r\nQ 39.703125 55.765625 41.0625 55.515625 \r\nz\r\n\" id=\"DejaVuSans-114\"/>\r\n       <path d=\"M 34.28125 27.484375 \r\nQ 23.390625 27.484375 19.1875 25 \r\nQ 14.984375 22.515625 14.984375 16.5 \r\nQ 14.984375 11.71875 18.140625 8.90625 \r\nQ 21.296875 6.109375 26.703125 6.109375 \r\nQ 34.1875 6.109375 38.703125 11.40625 \r\nQ 43.21875 16.703125 43.21875 25.484375 \r\nL 43.21875 27.484375 \r\nz\r\nM 52.203125 31.203125 \r\nL 52.203125 0 \r\nL 43.21875 0 \r\nL 43.21875 8.296875 \r\nQ 40.140625 3.328125 35.546875 0.953125 \r\nQ 30.953125 -1.421875 24.3125 -1.421875 \r\nQ 15.921875 -1.421875 10.953125 3.296875 \r\nQ 6 8.015625 6 15.921875 \r\nQ 6 25.140625 12.171875 29.828125 \r\nQ 18.359375 34.515625 30.609375 34.515625 \r\nL 43.21875 34.515625 \r\nL 43.21875 35.40625 \r\nQ 43.21875 41.609375 39.140625 45 \r\nQ 35.0625 48.390625 27.6875 48.390625 \r\nQ 23 48.390625 18.546875 47.265625 \r\nQ 14.109375 46.140625 10.015625 43.890625 \r\nL 10.015625 52.203125 \r\nQ 14.9375 54.109375 19.578125 55.046875 \r\nQ 24.21875 56 28.609375 56 \r\nQ 40.484375 56 46.34375 49.84375 \r\nQ 52.203125 43.703125 52.203125 31.203125 \r\nz\r\n\" id=\"DejaVuSans-97\"/>\r\n       <path d=\"M 9.421875 54.6875 \r\nL 18.40625 54.6875 \r\nL 18.40625 0 \r\nL 9.421875 0 \r\nz\r\nM 9.421875 75.984375 \r\nL 18.40625 75.984375 \r\nL 18.40625 64.59375 \r\nL 9.421875 64.59375 \r\nz\r\n\" id=\"DejaVuSans-105\"/>\r\n       <path d=\"M 30.609375 48.390625 \r\nQ 23.390625 48.390625 19.1875 42.75 \r\nQ 14.984375 37.109375 14.984375 27.296875 \r\nQ 14.984375 17.484375 19.15625 11.84375 \r\nQ 23.34375 6.203125 30.609375 6.203125 \r\nQ 37.796875 6.203125 41.984375 11.859375 \r\nQ 46.1875 17.53125 46.1875 27.296875 \r\nQ 46.1875 37.015625 41.984375 42.703125 \r\nQ 37.796875 48.390625 30.609375 48.390625 \r\nz\r\nM 30.609375 56 \r\nQ 42.328125 56 49.015625 48.375 \r\nQ 55.71875 40.765625 55.71875 27.296875 \r\nQ 55.71875 13.875 49.015625 6.21875 \r\nQ 42.328125 -1.421875 30.609375 -1.421875 \r\nQ 18.84375 -1.421875 12.171875 6.21875 \r\nQ 5.515625 13.875 5.515625 27.296875 \r\nQ 5.515625 40.765625 12.171875 48.375 \r\nQ 18.84375 56 30.609375 56 \r\nz\r\n\" id=\"DejaVuSans-111\"/>\r\n       <path d=\"M 54.890625 33.015625 \r\nL 54.890625 0 \r\nL 45.90625 0 \r\nL 45.90625 32.71875 \r\nQ 45.90625 40.484375 42.875 44.328125 \r\nQ 39.84375 48.1875 33.796875 48.1875 \r\nQ 26.515625 48.1875 22.3125 43.546875 \r\nQ 18.109375 38.921875 18.109375 30.90625 \r\nL 18.109375 0 \r\nL 9.078125 0 \r\nL 9.078125 54.6875 \r\nL 18.109375 54.6875 \r\nL 18.109375 46.1875 \r\nQ 21.34375 51.125 25.703125 53.5625 \r\nQ 30.078125 56 35.796875 56 \r\nQ 45.21875 56 50.046875 50.171875 \r\nQ 54.890625 44.34375 54.890625 33.015625 \r\nz\r\n\" id=\"DejaVuSans-110\"/>\r\n       <path id=\"DejaVuSans-32\"/>\r\n       <path d=\"M 8.5 21.578125 \r\nL 8.5 54.6875 \r\nL 17.484375 54.6875 \r\nL 17.484375 21.921875 \r\nQ 17.484375 14.15625 20.5 10.265625 \r\nQ 23.53125 6.390625 29.59375 6.390625 \r\nQ 36.859375 6.390625 41.078125 11.03125 \r\nQ 45.3125 15.671875 45.3125 23.6875 \r\nL 45.3125 54.6875 \r\nL 54.296875 54.6875 \r\nL 54.296875 0 \r\nL 45.3125 0 \r\nL 45.3125 8.40625 \r\nQ 42.046875 3.421875 37.71875 1 \r\nQ 33.40625 -1.421875 27.6875 -1.421875 \r\nQ 18.265625 -1.421875 13.375 4.4375 \r\nQ 8.5 10.296875 8.5 21.578125 \r\nz\r\nM 31.109375 56 \r\nz\r\n\" id=\"DejaVuSans-117\"/>\r\n       <path d=\"M 52 44.1875 \r\nQ 55.375 50.25 60.0625 53.125 \r\nQ 64.75 56 71.09375 56 \r\nQ 79.640625 56 84.28125 50.015625 \r\nQ 88.921875 44.046875 88.921875 33.015625 \r\nL 88.921875 0 \r\nL 79.890625 0 \r\nL 79.890625 32.71875 \r\nQ 79.890625 40.578125 77.09375 44.375 \r\nQ 74.3125 48.1875 68.609375 48.1875 \r\nQ 61.625 48.1875 57.5625 43.546875 \r\nQ 53.515625 38.921875 53.515625 30.90625 \r\nL 53.515625 0 \r\nL 44.484375 0 \r\nL 44.484375 32.71875 \r\nQ 44.484375 40.625 41.703125 44.40625 \r\nQ 38.921875 48.1875 33.109375 48.1875 \r\nQ 26.21875 48.1875 22.15625 43.53125 \r\nQ 18.109375 38.875 18.109375 30.90625 \r\nL 18.109375 0 \r\nL 9.078125 0 \r\nL 9.078125 54.6875 \r\nL 18.109375 54.6875 \r\nL 18.109375 46.1875 \r\nQ 21.1875 51.21875 25.484375 53.609375 \r\nQ 29.78125 56 35.6875 56 \r\nQ 41.65625 56 45.828125 52.96875 \r\nQ 50 49.953125 52 44.1875 \r\nz\r\n\" id=\"DejaVuSans-109\"/>\r\n       <path d=\"M 48.6875 27.296875 \r\nQ 48.6875 37.203125 44.609375 42.84375 \r\nQ 40.53125 48.484375 33.40625 48.484375 \r\nQ 26.265625 48.484375 22.1875 42.84375 \r\nQ 18.109375 37.203125 18.109375 27.296875 \r\nQ 18.109375 17.390625 22.1875 11.75 \r\nQ 26.265625 6.109375 33.40625 6.109375 \r\nQ 40.53125 6.109375 44.609375 11.75 \r\nQ 48.6875 17.390625 48.6875 27.296875 \r\nz\r\nM 18.109375 46.390625 \r\nQ 20.953125 51.265625 25.265625 53.625 \r\nQ 29.59375 56 35.59375 56 \r\nQ 45.5625 56 51.78125 48.09375 \r\nQ 58.015625 40.1875 58.015625 27.296875 \r\nQ 58.015625 14.40625 51.78125 6.484375 \r\nQ 45.5625 -1.421875 35.59375 -1.421875 \r\nQ 29.59375 -1.421875 25.265625 0.953125 \r\nQ 20.953125 3.328125 18.109375 8.203125 \r\nL 18.109375 0 \r\nL 9.078125 0 \r\nL 9.078125 75.984375 \r\nL 18.109375 75.984375 \r\nz\r\n\" id=\"DejaVuSans-98\"/>\r\n      </defs>\r\n      <use xlink:href=\"#DejaVuSans-73\"/>\r\n      <use x=\"29.492188\" xlink:href=\"#DejaVuSans-116\"/>\r\n      <use x=\"68.701172\" xlink:href=\"#DejaVuSans-101\"/>\r\n      <use x=\"130.224609\" xlink:href=\"#DejaVuSans-114\"/>\r\n      <use x=\"171.337891\" xlink:href=\"#DejaVuSans-97\"/>\r\n      <use x=\"232.617188\" xlink:href=\"#DejaVuSans-116\"/>\r\n      <use x=\"271.826172\" xlink:href=\"#DejaVuSans-105\"/>\r\n      <use x=\"299.609375\" xlink:href=\"#DejaVuSans-111\"/>\r\n      <use x=\"360.791016\" xlink:href=\"#DejaVuSans-110\"/>\r\n      <use x=\"424.169922\" xlink:href=\"#DejaVuSans-32\"/>\r\n      <use x=\"455.957031\" xlink:href=\"#DejaVuSans-110\"/>\r\n      <use x=\"519.335938\" xlink:href=\"#DejaVuSans-117\"/>\r\n      <use x=\"582.714844\" xlink:href=\"#DejaVuSans-109\"/>\r\n      <use x=\"680.126953\" xlink:href=\"#DejaVuSans-98\"/>\r\n      <use x=\"743.603516\" xlink:href=\"#DejaVuSans-101\"/>\r\n      <use x=\"805.126953\" xlink:href=\"#DejaVuSans-114\"/>\r\n     </g>\r\n    </g>\r\n   </g>\r\n   <g id=\"matplotlib.axis_2\">\r\n    <g id=\"ytick_1\">\r\n     <g id=\"line2d_7\">\r\n      <defs>\r\n       <path d=\"M 0 0 \r\nL -3.5 0 \r\n\" id=\"ma5f1a089a2\" style=\"stroke:#000000;stroke-width:0.8;\"/>\r\n      </defs>\r\n      <g>\r\n       <use style=\"stroke:#000000;stroke-width:0.8;\" x=\"59.690625\" xlink:href=\"#ma5f1a089a2\" y=\"200.106337\"/>\r\n      </g>\r\n     </g>\r\n     <g id=\"text_8\">\r\n      <!-- 5000 -->\r\n      <g transform=\"translate(27.240625 203.905555)scale(0.1 -0.1)\">\r\n       <defs>\r\n        <path d=\"M 10.796875 72.90625 \r\nL 49.515625 72.90625 \r\nL 49.515625 64.59375 \r\nL 19.828125 64.59375 \r\nL 19.828125 46.734375 \r\nQ 21.96875 47.46875 24.109375 47.828125 \r\nQ 26.265625 48.1875 28.421875 48.1875 \r\nQ 40.625 48.1875 47.75 41.5 \r\nQ 54.890625 34.8125 54.890625 23.390625 \r\nQ 54.890625 11.625 47.5625 5.09375 \r\nQ 40.234375 -1.421875 26.90625 -1.421875 \r\nQ 22.3125 -1.421875 17.546875 -0.640625 \r\nQ 12.796875 0.140625 7.71875 1.703125 \r\nL 7.71875 11.625 \r\nQ 12.109375 9.234375 16.796875 8.0625 \r\nQ 21.484375 6.890625 26.703125 6.890625 \r\nQ 35.15625 6.890625 40.078125 11.328125 \r\nQ 45.015625 15.765625 45.015625 23.390625 \r\nQ 45.015625 31 40.078125 35.4375 \r\nQ 35.15625 39.890625 26.703125 39.890625 \r\nQ 22.75 39.890625 18.8125 39.015625 \r\nQ 14.890625 38.140625 10.796875 36.28125 \r\nz\r\n\" id=\"DejaVuSans-53\"/>\r\n       </defs>\r\n       <use xlink:href=\"#DejaVuSans-53\"/>\r\n       <use x=\"63.623047\" xlink:href=\"#DejaVuSans-48\"/>\r\n       <use x=\"127.246094\" xlink:href=\"#DejaVuSans-48\"/>\r\n       <use x=\"190.869141\" xlink:href=\"#DejaVuSans-48\"/>\r\n      </g>\r\n     </g>\r\n    </g>\r\n    <g id=\"ytick_2\">\r\n     <g id=\"line2d_8\">\r\n      <g>\r\n       <use style=\"stroke:#000000;stroke-width:0.8;\" x=\"59.690625\" xlink:href=\"#ma5f1a089a2\" y=\"159.061234\"/>\r\n      </g>\r\n     </g>\r\n     <g id=\"text_9\">\r\n      <!-- 10000 -->\r\n      <g transform=\"translate(20.878125 162.860453)scale(0.1 -0.1)\">\r\n       <use xlink:href=\"#DejaVuSans-49\"/>\r\n       <use x=\"63.623047\" xlink:href=\"#DejaVuSans-48\"/>\r\n       <use x=\"127.246094\" xlink:href=\"#DejaVuSans-48\"/>\r\n       <use x=\"190.869141\" xlink:href=\"#DejaVuSans-48\"/>\r\n       <use x=\"254.492188\" xlink:href=\"#DejaVuSans-48\"/>\r\n      </g>\r\n     </g>\r\n    </g>\r\n    <g id=\"ytick_3\">\r\n     <g id=\"line2d_9\">\r\n      <g>\r\n       <use style=\"stroke:#000000;stroke-width:0.8;\" x=\"59.690625\" xlink:href=\"#ma5f1a089a2\" y=\"118.016132\"/>\r\n      </g>\r\n     </g>\r\n     <g id=\"text_10\">\r\n      <!-- 15000 -->\r\n      <g transform=\"translate(20.878125 121.81535)scale(0.1 -0.1)\">\r\n       <use xlink:href=\"#DejaVuSans-49\"/>\r\n       <use x=\"63.623047\" xlink:href=\"#DejaVuSans-53\"/>\r\n       <use x=\"127.246094\" xlink:href=\"#DejaVuSans-48\"/>\r\n       <use x=\"190.869141\" xlink:href=\"#DejaVuSans-48\"/>\r\n       <use x=\"254.492188\" xlink:href=\"#DejaVuSans-48\"/>\r\n      </g>\r\n     </g>\r\n    </g>\r\n    <g id=\"ytick_4\">\r\n     <g id=\"line2d_10\">\r\n      <g>\r\n       <use style=\"stroke:#000000;stroke-width:0.8;\" x=\"59.690625\" xlink:href=\"#ma5f1a089a2\" y=\"76.971029\"/>\r\n      </g>\r\n     </g>\r\n     <g id=\"text_11\">\r\n      <!-- 20000 -->\r\n      <g transform=\"translate(20.878125 80.770248)scale(0.1 -0.1)\">\r\n       <use xlink:href=\"#DejaVuSans-50\"/>\r\n       <use x=\"63.623047\" xlink:href=\"#DejaVuSans-48\"/>\r\n       <use x=\"127.246094\" xlink:href=\"#DejaVuSans-48\"/>\r\n       <use x=\"190.869141\" xlink:href=\"#DejaVuSans-48\"/>\r\n       <use x=\"254.492188\" xlink:href=\"#DejaVuSans-48\"/>\r\n      </g>\r\n     </g>\r\n    </g>\r\n    <g id=\"ytick_5\">\r\n     <g id=\"line2d_11\">\r\n      <g>\r\n       <use style=\"stroke:#000000;stroke-width:0.8;\" x=\"59.690625\" xlink:href=\"#ma5f1a089a2\" y=\"35.925927\"/>\r\n      </g>\r\n     </g>\r\n     <g id=\"text_12\">\r\n      <!-- 25000 -->\r\n      <g transform=\"translate(20.878125 39.725146)scale(0.1 -0.1)\">\r\n       <use xlink:href=\"#DejaVuSans-50\"/>\r\n       <use x=\"63.623047\" xlink:href=\"#DejaVuSans-53\"/>\r\n       <use x=\"127.246094\" xlink:href=\"#DejaVuSans-48\"/>\r\n       <use x=\"190.869141\" xlink:href=\"#DejaVuSans-48\"/>\r\n       <use x=\"254.492188\" xlink:href=\"#DejaVuSans-48\"/>\r\n      </g>\r\n     </g>\r\n    </g>\r\n    <g id=\"text_13\">\r\n     <!-- MSE -->\r\n     <g transform=\"translate(14.798438 126.567656)rotate(-90)scale(0.1 -0.1)\">\r\n      <defs>\r\n       <path d=\"M 9.8125 72.90625 \r\nL 24.515625 72.90625 \r\nL 43.109375 23.296875 \r\nL 61.8125 72.90625 \r\nL 76.515625 72.90625 \r\nL 76.515625 0 \r\nL 66.890625 0 \r\nL 66.890625 64.015625 \r\nL 48.09375 14.015625 \r\nL 38.1875 14.015625 \r\nL 19.390625 64.015625 \r\nL 19.390625 0 \r\nL 9.8125 0 \r\nz\r\n\" id=\"DejaVuSans-77\"/>\r\n       <path d=\"M 53.515625 70.515625 \r\nL 53.515625 60.890625 \r\nQ 47.90625 63.578125 42.921875 64.890625 \r\nQ 37.9375 66.21875 33.296875 66.21875 \r\nQ 25.25 66.21875 20.875 63.09375 \r\nQ 16.5 59.96875 16.5 54.203125 \r\nQ 16.5 49.359375 19.40625 46.890625 \r\nQ 22.3125 44.4375 30.421875 42.921875 \r\nL 36.375 41.703125 \r\nQ 47.40625 39.59375 52.65625 34.296875 \r\nQ 57.90625 29 57.90625 20.125 \r\nQ 57.90625 9.515625 50.796875 4.046875 \r\nQ 43.703125 -1.421875 29.984375 -1.421875 \r\nQ 24.8125 -1.421875 18.96875 -0.25 \r\nQ 13.140625 0.921875 6.890625 3.21875 \r\nL 6.890625 13.375 \r\nQ 12.890625 10.015625 18.65625 8.296875 \r\nQ 24.421875 6.59375 29.984375 6.59375 \r\nQ 38.421875 6.59375 43.015625 9.90625 \r\nQ 47.609375 13.234375 47.609375 19.390625 \r\nQ 47.609375 24.75 44.3125 27.78125 \r\nQ 41.015625 30.8125 33.5 32.328125 \r\nL 27.484375 33.5 \r\nQ 16.453125 35.6875 11.515625 40.375 \r\nQ 6.59375 45.0625 6.59375 53.421875 \r\nQ 6.59375 63.09375 13.40625 68.65625 \r\nQ 20.21875 74.21875 32.171875 74.21875 \r\nQ 37.3125 74.21875 42.625 73.28125 \r\nQ 47.953125 72.359375 53.515625 70.515625 \r\nz\r\n\" id=\"DejaVuSans-83\"/>\r\n       <path d=\"M 9.8125 72.90625 \r\nL 55.90625 72.90625 \r\nL 55.90625 64.59375 \r\nL 19.671875 64.59375 \r\nL 19.671875 43.015625 \r\nL 54.390625 43.015625 \r\nL 54.390625 34.71875 \r\nL 19.671875 34.71875 \r\nL 19.671875 8.296875 \r\nL 56.78125 8.296875 \r\nL 56.78125 0 \r\nL 9.8125 0 \r\nz\r\n\" id=\"DejaVuSans-69\"/>\r\n      </defs>\r\n      <use xlink:href=\"#DejaVuSans-77\"/>\r\n      <use x=\"86.279297\" xlink:href=\"#DejaVuSans-83\"/>\r\n      <use x=\"149.755859\" xlink:href=\"#DejaVuSans-69\"/>\r\n     </g>\r\n    </g>\r\n   </g>\r\n   <g id=\"line2d_12\">\r\n    <path clip-path=\"url(#pf927673ced)\" d=\"M 59.690625 17.083636 \r\nL 63.038625 56.323564 \r\nL 66.386625 87.538224 \r\nL 69.734625 113.342828 \r\nL 73.082625 133.599445 \r\nL 76.430625 150.507816 \r\nL 79.778625 164.176499 \r\nL 83.126625 174.354163 \r\nL 86.474625 182.509917 \r\nL 89.822625 189.139914 \r\nL 93.170625 194.65387 \r\nL 96.518625 198.788436 \r\nL 99.866625 201.873924 \r\nL 103.214625 204.38334 \r\nL 106.562625 206.433952 \r\nL 109.910625 208.11508 \r\nL 113.258625 209.456969 \r\nL 116.606625 210.484725 \r\nL 119.954625 211.060223 \r\nL 123.302625 211.772179 \r\nL 126.650625 212.282025 \r\nL 129.998625 212.76223 \r\nL 133.346625 213.268083 \r\nL 136.694625 213.465102 \r\nL 140.042625 213.532612 \r\nL 143.390625 213.778436 \r\nL 146.738625 213.698999 \r\nL 150.086625 213.691035 \r\nL 153.434625 213.930877 \r\nL 156.782625 214.005841 \r\nL 160.130625 213.821373 \r\nL 163.478625 213.682332 \r\nL 166.826625 213.575208 \r\nL 170.174625 213.638001 \r\nL 173.522625 213.475758 \r\nL 176.870625 213.43574 \r\nL 180.218625 213.37606 \r\nL 183.566625 213.346877 \r\nL 186.914625 213.247427 \r\nL 190.262625 213.211214 \r\nL 193.610625 213.13608 \r\nL 196.958625 213.096572 \r\nL 200.306625 213.140213 \r\nL 203.654625 213.084117 \r\nL 207.002625 213.000817 \r\nL 210.350625 212.826054 \r\nL 213.698625 212.793403 \r\nL 217.046625 212.637788 \r\nL 220.394625 212.528793 \r\nL 223.742625 212.551456 \r\nL 227.090625 212.455437 \r\nL 230.438625 212.485679 \r\nL 233.786625 212.551298 \r\nL 237.134625 212.472746 \r\nL 240.482625 212.407502 \r\nL 243.830625 212.293502 \r\nL 247.178625 212.159982 \r\nL 250.526625 212.127839 \r\nL 253.874625 212.063357 \r\nL 257.222625 212.248468 \r\nL 260.570625 212.28592 \r\nL 263.918625 212.170222 \r\nL 267.266625 212.123093 \r\nL 270.614625 212.097402 \r\nL 273.962625 212.066192 \r\nL 277.310625 211.944552 \r\nL 280.658625 211.933171 \r\nL 284.006625 211.997555 \r\nL 287.354625 212.012438 \r\nL 290.702625 212.033269 \r\nL 294.050625 212.084851 \r\nL 297.398625 212.199522 \r\nL 300.746625 212.185383 \r\nL 304.094625 212.055474 \r\nL 307.442625 212.069271 \r\nL 310.790625 212.102361 \r\nL 314.138625 212.003378 \r\nL 317.486625 212.035189 \r\nL 320.834625 211.951748 \r\nL 324.182625 212.036958 \r\nL 327.530625 212.031223 \r\nL 330.878625 211.933201 \r\nL 334.226625 211.884699 \r\nL 337.574625 211.769861 \r\nL 340.922625 211.766105 \r\nL 344.270625 211.726597 \r\nL 347.618625 211.833249 \r\nL 350.966625 211.949539 \r\nL 354.314625 211.866081 \r\nL 357.662625 211.8145 \r\nL 361.010625 211.80697 \r\nL 364.358625 211.777834 \r\nL 367.706625 211.814015 \r\nL 371.054625 211.801746 \r\nL 374.402625 211.732618 \r\nL 377.750625 211.717177 \r\nL 381.098625 211.687083 \r\nL 384.446625 211.674371 \r\nL 387.794625 211.625342 \r\nL 391.142625 211.749483 \r\n\" style=\"fill:none;stroke:#1f77b4;stroke-linecap:square;stroke-width:1.5;\"/>\r\n   </g>\r\n   <g id=\"line2d_13\">\r\n    <path clip-path=\"url(#pf927673ced)\" d=\"M 59.690625 17.083636 \r\nL 63.038625 55.808749 \r\nL 66.386625 86.802448 \r\nL 69.734625 110.8915 \r\nL 73.082625 131.304401 \r\nL 76.430625 147.190152 \r\nL 79.778625 160.173693 \r\nL 83.126625 170.366652 \r\nL 86.474625 178.47348 \r\nL 89.822625 185.04718 \r\nL 93.170625 190.923064 \r\nL 96.518625 195.736721 \r\nL 99.866625 199.967211 \r\nL 103.214625 203.549138 \r\nL 106.562625 206.118424 \r\nL 109.910625 207.740201 \r\nL 113.258625 209.290121 \r\nL 116.606625 210.486007 \r\nL 119.954625 211.858456 \r\nL 123.302625 212.146989 \r\nL 126.650625 212.607242 \r\nL 129.998625 212.993901 \r\nL 133.346625 213.505987 \r\nL 136.694625 213.869521 \r\nL 140.042625 213.991647 \r\nL 143.390625 213.779444 \r\nL 146.738625 213.822264 \r\nL 150.086625 213.670515 \r\nL 153.434625 213.688491 \r\nL 156.782625 213.686731 \r\nL 160.130625 213.81566 \r\nL 163.478625 214.137387 \r\nL 166.826625 214.237357 \r\nL 170.174625 214.37176 \r\nL 173.522625 214.439973 \r\nL 176.870625 214.37607 \r\nL 180.218625 214.447077 \r\nL 183.566625 214.363672 \r\nL 186.914625 214.569192 \r\nL 190.262625 214.592012 \r\nL 193.610625 214.756364 \r\nL 196.958625 214.579215 \r\nL 200.306625 214.177032 \r\nL 203.654625 214.152771 \r\nL 207.002625 213.784427 \r\nL 210.350625 213.688386 \r\nL 213.698625 213.908529 \r\nL 217.046625 214.158077 \r\nL 220.394625 214.135922 \r\nL 223.742625 214.223341 \r\nL 227.090625 214.060107 \r\nL 230.438625 213.920257 \r\nL 233.786625 213.703222 \r\nL 237.134625 213.769828 \r\nL 240.482625 213.495778 \r\nL 243.830625 213.229308 \r\nL 247.178625 213.271652 \r\nL 250.526625 212.979591 \r\nL 253.874625 212.976788 \r\nL 257.222625 212.973211 \r\nL 260.570625 213.006747 \r\nL 263.918625 212.973306 \r\nL 267.266625 212.912469 \r\nL 270.614625 212.853998 \r\nL 273.962625 212.998364 \r\nL 277.310625 213.090967 \r\nL 280.658625 213.155935 \r\nL 284.006625 213.264611 \r\nL 287.354625 213.351992 \r\nL 290.702625 213.5009 \r\nL 294.050625 213.407874 \r\nL 297.398625 213.432777 \r\nL 300.746625 213.447531 \r\nL 304.094625 213.548692 \r\nL 307.442625 213.706942 \r\nL 310.790625 213.743199 \r\nL 314.138625 213.788219 \r\nL 317.486625 213.7543 \r\nL 320.834625 213.849703 \r\nL 324.182625 213.51934 \r\nL 327.530625 213.446027 \r\nL 330.878625 213.309723 \r\nL 334.226625 213.150419 \r\nL 337.574625 212.806728 \r\nL 340.922625 212.506115 \r\nL 344.270625 212.647172 \r\nL 347.618625 212.722905 \r\nL 350.966625 212.693905 \r\nL 354.314625 212.415039 \r\nL 357.662625 212.16348 \r\nL 361.010625 212.093331 \r\nL 364.358625 211.972856 \r\nL 367.706625 211.960356 \r\nL 371.054625 211.787173 \r\nL 374.402625 211.806433 \r\nL 377.750625 212.001924 \r\nL 381.098625 211.804834 \r\nL 384.446625 211.73458 \r\nL 387.794625 211.74044 \r\nL 391.142625 211.638867 \r\n\" style=\"fill:none;stroke:#ff7f0e;stroke-linecap:square;stroke-width:1.5;\"/>\r\n   </g>\r\n   <g id=\"line2d_14\">\r\n    <path clip-path=\"url(#pf927673ced)\" d=\"M 59.690625 17.083636 \r\nL 63.038625 54.715693 \r\nL 66.386625 85.394223 \r\nL 69.734625 103.166159 \r\nL 73.082625 116.933779 \r\nL 76.430625 135.329457 \r\nL 79.778625 148.247643 \r\nL 83.126625 161.094366 \r\nL 86.474625 167.650023 \r\nL 89.822625 173.062155 \r\nL 93.170625 181.980624 \r\nL 96.518625 186.396892 \r\nL 99.866625 191.254334 \r\nL 103.214625 194.070326 \r\nL 106.562625 196.93421 \r\nL 109.910625 198.519309 \r\nL 113.258625 200.682323 \r\nL 116.606625 202.829679 \r\nL 119.954625 202.799715 \r\nL 123.302625 204.055096 \r\nL 126.650625 203.39399 \r\nL 129.998625 205.277881 \r\nL 133.346625 205.587757 \r\nL 136.694625 207.13109 \r\nL 140.042625 207.02837 \r\nL 143.390625 208.404134 \r\nL 146.738625 208.28531 \r\nL 150.086625 208.726602 \r\nL 153.434625 208.768259 \r\nL 156.782625 208.5338 \r\nL 160.130625 208.167622 \r\nL 163.478625 207.901379 \r\nL 166.826625 208.040915 \r\nL 170.174625 208.753069 \r\nL 173.522625 208.833562 \r\nL 176.870625 208.787698 \r\nL 180.218625 208.898798 \r\nL 183.566625 207.669803 \r\nL 186.914625 208.376516 \r\nL 190.262625 208.635896 \r\nL 193.610625 209.294681 \r\nL 196.958625 208.505981 \r\nL 200.306625 208.786787 \r\nL 203.654625 209.059644 \r\nL 207.002625 209.312611 \r\nL 210.350625 209.619661 \r\nL 213.698625 208.35258 \r\nL 217.046625 208.597318 \r\nL 220.394625 208.724864 \r\nL 223.742625 208.713779 \r\nL 227.090625 208.490653 \r\nL 230.438625 207.978071 \r\nL 233.786625 208.001893 \r\nL 237.134625 207.592902 \r\nL 240.482625 208.044269 \r\nL 243.830625 208.168215 \r\nL 247.178625 208.336385 \r\nL 250.526625 208.164944 \r\nL 253.874625 207.978325 \r\nL 257.222625 206.272986 \r\nL 260.570625 207.070686 \r\nL 263.918625 207.394495 \r\nL 267.266625 206.487155 \r\nL 270.614625 205.950095 \r\nL 273.962625 205.689205 \r\nL 277.310625 205.99807 \r\nL 280.658625 205.524404 \r\nL 284.006625 205.18553 \r\nL 287.354625 205.70162 \r\nL 290.702625 205.170939 \r\nL 294.050625 204.923213 \r\nL 297.398625 204.217721 \r\nL 300.746625 203.881255 \r\nL 304.094625 203.964759 \r\nL 307.442625 203.829439 \r\nL 310.790625 204.235515 \r\nL 314.138625 206.028869 \r\nL 317.486625 205.806109 \r\nL 320.834625 205.757667 \r\nL 324.182625 206.292708 \r\nL 327.530625 206.378635 \r\nL 330.878625 205.659862 \r\nL 334.226625 205.979284 \r\nL 337.574625 205.139118 \r\nL 340.922625 205.809284 \r\nL 344.270625 205.670673 \r\nL 347.618625 206.035095 \r\nL 350.966625 205.657819 \r\nL 354.314625 206.475368 \r\nL 357.662625 206.218202 \r\nL 361.010625 206.230315 \r\nL 364.358625 205.852672 \r\nL 367.706625 205.526624 \r\nL 371.054625 205.732973 \r\nL 374.402625 206.808559 \r\nL 377.750625 207.279782 \r\nL 381.098625 207.526839 \r\nL 384.446625 207.752091 \r\nL 387.794625 208.323135 \r\nL 391.142625 208.108209 \r\n\" style=\"fill:none;stroke:#2ca02c;stroke-linecap:square;stroke-width:1.5;\"/>\r\n   </g>\r\n   <g id=\"line2d_15\">\r\n    <path clip-path=\"url(#pf927673ced)\" d=\"M 59.690625 17.083636 \r\nL 63.038625 37.09541 \r\nL 66.386625 54.357728 \r\nL 69.734625 70.025453 \r\nL 73.082625 88.704594 \r\nL 76.430625 101.41134 \r\nL 79.778625 121.203866 \r\nL 83.126625 134.883674 \r\nL 86.474625 141.875179 \r\nL 89.822625 148.632867 \r\nL 93.170625 146.883744 \r\nL 96.518625 160.359543 \r\nL 99.866625 160.658444 \r\nL 103.214625 166.005393 \r\nL 106.562625 170.718806 \r\nL 109.910625 179.897256 \r\nL 113.258625 186.413855 \r\nL 116.606625 187.991345 \r\nL 119.954625 189.33359 \r\nL 123.302625 190.193023 \r\nL 126.650625 195.220011 \r\nL 129.998625 202.426236 \r\nL 133.346625 203.718213 \r\nL 136.694625 202.929785 \r\nL 140.042625 202.768657 \r\nL 143.390625 204.032977 \r\nL 146.738625 203.703934 \r\nL 150.086625 202.061704 \r\nL 153.434625 201.947033 \r\nL 156.782625 201.555805 \r\nL 160.130625 201.052557 \r\nL 163.478625 200.216246 \r\nL 166.826625 200.144394 \r\nL 170.174625 200.308204 \r\nL 173.522625 201.293281 \r\nL 176.870625 202.94778 \r\nL 180.218625 203.96593 \r\nL 183.566625 204.386387 \r\nL 186.914625 205.505357 \r\nL 190.262625 204.411972 \r\nL 193.610625 203.486426 \r\nL 196.958625 205.843613 \r\nL 200.306625 205.830915 \r\nL 203.654625 205.344579 \r\nL 207.002625 205.764413 \r\nL 210.350625 205.86051 \r\nL 213.698625 205.610029 \r\nL 217.046625 205.45276 \r\nL 220.394625 204.944693 \r\nL 223.742625 204.171934 \r\nL 227.090625 200.795172 \r\nL 230.438625 202.050007 \r\nL 233.786625 202.549501 \r\nL 237.134625 203.400988 \r\nL 240.482625 204.826704 \r\nL 243.830625 205.597265 \r\nL 247.178625 204.898043 \r\nL 250.526625 206.013494 \r\nL 253.874625 206.107557 \r\nL 257.222625 206.189822 \r\nL 260.570625 205.930681 \r\nL 263.918625 206.016545 \r\nL 267.266625 206.002485 \r\nL 270.614625 205.982037 \r\nL 273.962625 206.482463 \r\nL 277.310625 205.702629 \r\nL 280.658625 205.12727 \r\nL 284.006625 204.373984 \r\nL 287.354625 205.638507 \r\nL 290.702625 205.764762 \r\nL 294.050625 205.843188 \r\nL 297.398625 205.829963 \r\nL 300.746625 205.507479 \r\nL 304.094625 205.363188 \r\nL 307.442625 206.159989 \r\nL 310.790625 205.986458 \r\nL 314.138625 205.719601 \r\nL 317.486625 205.552331 \r\nL 320.834625 205.429069 \r\nL 324.182625 205.961065 \r\nL 327.530625 207.072193 \r\nL 330.878625 207.034425 \r\nL 334.226625 206.794822 \r\nL 337.574625 207.429263 \r\nL 340.922625 206.750147 \r\nL 344.270625 205.876782 \r\nL 347.618625 205.657084 \r\nL 350.966625 205.299535 \r\nL 354.314625 205.883451 \r\nL 357.662625 202.497738 \r\nL 361.010625 203.329508 \r\nL 364.358625 203.175365 \r\nL 367.706625 204.800793 \r\nL 371.054625 204.852543 \r\nL 374.402625 204.384397 \r\nL 377.750625 202.787407 \r\nL 381.098625 204.044307 \r\nL 384.446625 203.33226 \r\nL 387.794625 203.716539 \r\nL 391.142625 203.938986 \r\n\" style=\"fill:none;stroke:#d62728;stroke-linecap:square;stroke-width:1.5;\"/>\r\n   </g>\r\n   <g id=\"patch_3\">\r\n    <path d=\"M 59.690625 224.64 \r\nL 59.690625 7.2 \r\n\" style=\"fill:none;stroke:#000000;stroke-linecap:square;stroke-linejoin:miter;stroke-width:0.8;\"/>\r\n   </g>\r\n   <g id=\"patch_4\">\r\n    <path d=\"M 394.490625 224.64 \r\nL 394.490625 7.2 \r\n\" style=\"fill:none;stroke:#000000;stroke-linecap:square;stroke-linejoin:miter;stroke-width:0.8;\"/>\r\n   </g>\r\n   <g id=\"patch_5\">\r\n    <path d=\"M 59.690625 224.64 \r\nL 394.490625 224.64 \r\n\" style=\"fill:none;stroke:#000000;stroke-linecap:square;stroke-linejoin:miter;stroke-width:0.8;\"/>\r\n   </g>\r\n   <g id=\"patch_6\">\r\n    <path d=\"M 59.690625 7.2 \r\nL 394.490625 7.2 \r\n\" style=\"fill:none;stroke:#000000;stroke-linecap:square;stroke-linejoin:miter;stroke-width:0.8;\"/>\r\n   </g>\r\n   <g id=\"legend_1\">\r\n    <g id=\"patch_7\">\r\n     <path d=\"M 326.8625 73.9125 \r\nL 387.490625 73.9125 \r\nQ 389.490625 73.9125 389.490625 71.9125 \r\nL 389.490625 14.2 \r\nQ 389.490625 12.2 387.490625 12.2 \r\nL 326.8625 12.2 \r\nQ 324.8625 12.2 324.8625 14.2 \r\nL 324.8625 71.9125 \r\nQ 324.8625 73.9125 326.8625 73.9125 \r\nz\r\n\" style=\"fill:#ffffff;opacity:0.8;stroke:#cccccc;stroke-linejoin:miter;\"/>\r\n    </g>\r\n    <g id=\"line2d_16\">\r\n     <path d=\"M 328.8625 20.298437 \r\nL 348.8625 20.298437 \r\n\" style=\"fill:none;stroke:#1f77b4;stroke-linecap:square;stroke-width:1.5;\"/>\r\n    </g>\r\n    <g id=\"line2d_17\"/>\r\n    <g id=\"text_14\">\r\n     <!-- 1 -->\r\n     <g transform=\"translate(356.8625 23.798437)scale(0.1 -0.1)\">\r\n      <use xlink:href=\"#DejaVuSans-49\"/>\r\n     </g>\r\n    </g>\r\n    <g id=\"line2d_18\">\r\n     <path d=\"M 328.8625 34.976562 \r\nL 348.8625 34.976562 \r\n\" style=\"fill:none;stroke:#ff7f0e;stroke-linecap:square;stroke-width:1.5;\"/>\r\n    </g>\r\n    <g id=\"line2d_19\"/>\r\n    <g id=\"text_15\">\r\n     <!-- 0.5 -->\r\n     <g transform=\"translate(356.8625 38.476562)scale(0.1 -0.1)\">\r\n      <defs>\r\n       <path d=\"M 10.6875 12.40625 \r\nL 21 12.40625 \r\nL 21 0 \r\nL 10.6875 0 \r\nz\r\n\" id=\"DejaVuSans-46\"/>\r\n      </defs>\r\n      <use xlink:href=\"#DejaVuSans-48\"/>\r\n      <use x=\"63.623047\" xlink:href=\"#DejaVuSans-46\"/>\r\n      <use x=\"95.410156\" xlink:href=\"#DejaVuSans-53\"/>\r\n     </g>\r\n    </g>\r\n    <g id=\"line2d_20\">\r\n     <path d=\"M 328.8625 49.654687 \r\nL 348.8625 49.654687 \r\n\" style=\"fill:none;stroke:#2ca02c;stroke-linecap:square;stroke-width:1.5;\"/>\r\n    </g>\r\n    <g id=\"line2d_21\"/>\r\n    <g id=\"text_16\">\r\n     <!-- 0.05 -->\r\n     <g transform=\"translate(356.8625 53.154687)scale(0.1 -0.1)\">\r\n      <use xlink:href=\"#DejaVuSans-48\"/>\r\n      <use x=\"63.623047\" xlink:href=\"#DejaVuSans-46\"/>\r\n      <use x=\"95.410156\" xlink:href=\"#DejaVuSans-48\"/>\r\n      <use x=\"159.033203\" xlink:href=\"#DejaVuSans-53\"/>\r\n     </g>\r\n    </g>\r\n    <g id=\"line2d_22\">\r\n     <path d=\"M 328.8625 64.332812 \r\nL 348.8625 64.332812 \r\n\" style=\"fill:none;stroke:#d62728;stroke-linecap:square;stroke-width:1.5;\"/>\r\n    </g>\r\n    <g id=\"line2d_23\"/>\r\n    <g id=\"text_17\">\r\n     <!-- 0.005 -->\r\n     <g transform=\"translate(356.8625 67.832812)scale(0.1 -0.1)\">\r\n      <use xlink:href=\"#DejaVuSans-48\"/>\r\n      <use x=\"63.623047\" xlink:href=\"#DejaVuSans-46\"/>\r\n      <use x=\"95.410156\" xlink:href=\"#DejaVuSans-48\"/>\r\n      <use x=\"159.033203\" xlink:href=\"#DejaVuSans-48\"/>\r\n      <use x=\"222.65625\" xlink:href=\"#DejaVuSans-53\"/>\r\n     </g>\r\n    </g>\r\n   </g>\r\n  </g>\r\n </g>\r\n <defs>\r\n  <clipPath id=\"pf927673ced\">\r\n   <rect height=\"217.44\" width=\"334.8\" x=\"59.690625\" y=\"7.2\"/>\r\n  </clipPath>\r\n </defs>\r\n</svg>\r\n",
            "image/png": "[encoded data removed]"
          },
          "metadata": {
            "needs_background": "light"
          }
        }
      ],
      "source": [
        "get_errors_plot(n_trees, test_errors1, test_errors2, test_errors3, test_errors4)"
      ]
    },
    {
      "source": [
        "Вроде все сделал верно, но результаты немного странные. при выборке 0.005 , за 100 итераций мы используем максимум 50% общей выборки, и это дает нам даже какойто результат за 100 итераций. В таком исполнении они работают не сильно быстрее, но быстрее. Но может я сделал что-то неверно."
      ],
      "cell_type": "markdown",
      "metadata": {}
    }
  ]
}