{
 "metadata": {
  "language_info": {
   "codemirror_mode": {
    "name": "ipython",
    "version": 3
   },
   "file_extension": ".py",
   "mimetype": "text/x-python",
   "name": "python",
   "nbconvert_exporter": "python",
   "pygments_lexer": "ipython3",
   "version": "3.8.5-final"
  },
  "orig_nbformat": 2,
  "kernelspec": {
   "name": "python3",
   "display_name": "Python 3"
  }
 },
 "nbformat": 4,
 "nbformat_minor": 2,
 "cells": [
  {
   "source": [
    "1. Подберите скорость обучения (alpha) и количество итераций:"
   ],
   "cell_type": "markdown",
   "metadata": {}
  },
  {
   "cell_type": "code",
   "execution_count": 358,
   "metadata": {},
   "outputs": [],
   "source": [
    "import numpy as np\n",
    "import matplotlib.pyplot as plt"
   ]
  },
  {
   "cell_type": "code",
   "execution_count": 359,
   "metadata": {},
   "outputs": [],
   "source": [
    "y = np.array([45, 55, 50, 59, 65, 35, 75, 80, 50, 60], dtype='float64')\n",
    "X = np.array([[1, 1, 1, 1, 1, 1, 1, 1, 1, 1],\n",
    "              [1, 1, 2, 1, 3, 0, 5, 10, 1, 2]], dtype='float64')"
   ]
  },
  {
   "cell_type": "code",
   "execution_count": 360,
   "metadata": {},
   "outputs": [],
   "source": [
    "n = X.shape[1]\n",
    "alpha = 6e-2\n",
    "iters = 1000\n",
    "W = np.array([1, 1], dtype='float64')\n",
    "W, alpha\n",
    "epsilon = 1e-4"
   ]
  },
  {
   "source": [
    "Помучался я изрядно, пока не сделал все массивы dtype='float64', смена $W_0$ приводила меня к разным результатам. Как оказалось в цикле происходило целочисленное деление, и в зависимости от начальных условий, алгоритм сходился на разных векторах $W$(возможно причина в vc code в котором я работаю)."
   ],
   "cell_type": "markdown",
   "metadata": {}
  },
  {
   "cell_type": "code",
   "execution_count": 361,
   "metadata": {},
   "outputs": [],
   "source": [
    "def calc_mse(y, y_pred):\n",
    "    err = np.mean((y - y_pred)**2)\n",
    "    return err"
   ]
  },
  {
   "cell_type": "code",
   "execution_count": 362,
   "metadata": {
    "tags": []
   },
   "outputs": [
    {
     "output_type": "stream",
     "name": "stdout",
     "text": [
      "0 [ 7.456 20.524] 3006.8\n25 [38.94581949  5.39364748] 87.89206484815608\n50 [45.57827309  4.21635436] 47.610328890216856\n75 [46.90169303  3.97173315] 46.004278478740915\n100 [47.16611945  3.92290602] 45.94016576496328\n"
     ]
    }
   ],
   "source": [
    "err_old = np.inf\n",
    "for i in range(iters):\n",
    "    y_pred = np.dot(W, X)\n",
    "    err = calc_mse(y, y_pred)\n",
    "    if abs(err - err_old) < epsilon:\n",
    "        break\n",
    "    err_old = err\n",
    "    # for ii in range(W.shape[0]):\n",
    "    #     W[ii] -= alpha * (2 / n  * np.sum(X[ii] * (y_pred - y)))\n",
    "    W -= alpha * (1/n * 2 * np.sum(X * (y_pred - y), axis=1))\n",
    "    if i % 25 == 0:\n",
    "        print(i, W, err)"
   ]
  },
  {
   "source": [
    "Я ограничил количество циклов, что бы ошибка между предыдущим и текущим $W$ была меньше 4 знаков. Лучшая сходимость получилась при $alpha=0.06$ при $0.1$ уже начинает расходиться. "
   ],
   "cell_type": "markdown",
   "metadata": {}
  }
 ]
}