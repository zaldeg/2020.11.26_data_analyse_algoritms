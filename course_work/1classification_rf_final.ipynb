{
 "metadata": {
  "language_info": {
   "codemirror_mode": {
    "name": "ipython",
    "version": 3
   },
   "file_extension": ".py",
   "mimetype": "text/x-python",
   "name": "python",
   "nbconvert_exporter": "python",
   "pygments_lexer": "ipython3",
   "version": "3.8.5-final"
  },
  "orig_nbformat": 2,
  "kernelspec": {
   "name": "python3",
   "display_name": "Python 3",
   "language": "python"
  }
 },
 "nbformat": 4,
 "nbformat_minor": 2,
 "cells": [
  {
   "cell_type": "code",
   "execution_count": 1,
   "metadata": {},
   "outputs": [],
   "source": [
    "import numpy as np\n",
    "import pandas as pd\n",
    "\n",
    "import matplotlib.pyplot as plt\n",
    "import seaborn as sns\n",
    "from sklearn.model_selection import train_test_split"
   ]
  },
  {
   "cell_type": "code",
   "execution_count": 2,
   "metadata": {},
   "outputs": [],
   "source": [
    "def multiply(data:pd.DataFrame, categories:tuple, to_multiply:str)-> pd.DataFrame:\n",
    "    \"\"\"     \n",
    "    Creates new features, by multiplying features from categories on 'to_multiply', create new feature name\n",
    "        like concat of features names.\n",
    "    categories: tuple categories for multiply\n",
    "    to_multiply: str feature name to multiply\n",
    "    \"\"\"\n",
    "    for category in categories:\n",
    "        data[category+ '_' + to_multiply] = data[category] * data[to_multiply]\n",
    "    return data\n",
    "\n",
    "def pop(data:pd.DataFrame, categories:tuple)-> pd.DataFrame:\n",
    "    \"\"\"\n",
    "    Pop columns from data with names from categories tuple. \n",
    "    \"\"\"\n",
    "    for i in categories:\n",
    "        data.pop(i)\n",
    "    return data"
   ]
  },
  {
   "source": [
    "Загружаем данные."
   ],
   "cell_type": "markdown",
   "metadata": {}
  },
  {
   "cell_type": "code",
   "execution_count": 3,
   "metadata": {},
   "outputs": [],
   "source": [
    "df = pd.read_csv('train.csv')\n",
    "df_test = pd.read_csv('test.csv')"
   ]
  },
  {
   "cell_type": "code",
   "execution_count": 4,
   "metadata": {},
   "outputs": [
    {
     "output_type": "execute_result",
     "data": {
      "text/plain": [
       "                       count       mean          std    min      25%     50%  \\\n",
       "Id                   10000.0  4999.5000  2886.895680    0.0  2499.75  4999.5   \n",
       "age                  10000.0    45.8009     8.030274   23.0    40.00    46.0   \n",
       "years_of_experience  10000.0     1.9748     1.766883    0.0     0.00     2.0   \n",
       "lesson_price         10000.0  1702.4400   523.789062  200.0  1300.00  1550.0   \n",
       "qualification        10000.0     1.7243     0.798845    1.0     1.00     2.0   \n",
       "physics              10000.0     0.3706     0.482990    0.0     0.00     0.0   \n",
       "chemistry            10000.0     0.1215     0.326724    0.0     0.00     0.0   \n",
       "biology              10000.0     0.1172     0.321675    0.0     0.00     0.0   \n",
       "english              10000.0     0.0591     0.235824    0.0     0.00     0.0   \n",
       "geography            10000.0     0.0277     0.164120    0.0     0.00     0.0   \n",
       "history              10000.0     0.0180     0.132958    0.0     0.00     0.0   \n",
       "mean_exam_points     10000.0    64.4352    13.595024   33.0    55.00    63.0   \n",
       "choose               10000.0     0.1109     0.314024    0.0     0.00     0.0   \n",
       "\n",
       "                         75%     max  \n",
       "Id                   7499.25  9999.0  \n",
       "age                    51.00    68.0  \n",
       "years_of_experience     3.00     9.0  \n",
       "lesson_price         2150.00  3950.0  \n",
       "qualification           2.00     4.0  \n",
       "physics                 1.00     1.0  \n",
       "chemistry               0.00     1.0  \n",
       "biology                 0.00     1.0  \n",
       "english                 0.00     1.0  \n",
       "geography               0.00     1.0  \n",
       "history                 0.00     1.0  \n",
       "mean_exam_points       74.00   100.0  \n",
       "choose                  0.00     1.0  "
      ],
      "text/html": "<div>\n<style scoped>\n    .dataframe tbody tr th:only-of-type {\n        vertical-align: middle;\n    }\n\n    .dataframe tbody tr th {\n        vertical-align: top;\n    }\n\n    .dataframe thead th {\n        text-align: right;\n    }\n</style>\n<table border=\"1\" class=\"dataframe\">\n  <thead>\n    <tr style=\"text-align: right;\">\n      <th></th>\n      <th>count</th>\n      <th>mean</th>\n      <th>std</th>\n      <th>min</th>\n      <th>25%</th>\n      <th>50%</th>\n      <th>75%</th>\n      <th>max</th>\n    </tr>\n  </thead>\n  <tbody>\n    <tr>\n      <th>Id</th>\n      <td>10000.0</td>\n      <td>4999.5000</td>\n      <td>2886.895680</td>\n      <td>0.0</td>\n      <td>2499.75</td>\n      <td>4999.5</td>\n      <td>7499.25</td>\n      <td>9999.0</td>\n    </tr>\n    <tr>\n      <th>age</th>\n      <td>10000.0</td>\n      <td>45.8009</td>\n      <td>8.030274</td>\n      <td>23.0</td>\n      <td>40.00</td>\n      <td>46.0</td>\n      <td>51.00</td>\n      <td>68.0</td>\n    </tr>\n    <tr>\n      <th>years_of_experience</th>\n      <td>10000.0</td>\n      <td>1.9748</td>\n      <td>1.766883</td>\n      <td>0.0</td>\n      <td>0.00</td>\n      <td>2.0</td>\n      <td>3.00</td>\n      <td>9.0</td>\n    </tr>\n    <tr>\n      <th>lesson_price</th>\n      <td>10000.0</td>\n      <td>1702.4400</td>\n      <td>523.789062</td>\n      <td>200.0</td>\n      <td>1300.00</td>\n      <td>1550.0</td>\n      <td>2150.00</td>\n      <td>3950.0</td>\n    </tr>\n    <tr>\n      <th>qualification</th>\n      <td>10000.0</td>\n      <td>1.7243</td>\n      <td>0.798845</td>\n      <td>1.0</td>\n      <td>1.00</td>\n      <td>2.0</td>\n      <td>2.00</td>\n      <td>4.0</td>\n    </tr>\n    <tr>\n      <th>physics</th>\n      <td>10000.0</td>\n      <td>0.3706</td>\n      <td>0.482990</td>\n      <td>0.0</td>\n      <td>0.00</td>\n      <td>0.0</td>\n      <td>1.00</td>\n      <td>1.0</td>\n    </tr>\n    <tr>\n      <th>chemistry</th>\n      <td>10000.0</td>\n      <td>0.1215</td>\n      <td>0.326724</td>\n      <td>0.0</td>\n      <td>0.00</td>\n      <td>0.0</td>\n      <td>0.00</td>\n      <td>1.0</td>\n    </tr>\n    <tr>\n      <th>biology</th>\n      <td>10000.0</td>\n      <td>0.1172</td>\n      <td>0.321675</td>\n      <td>0.0</td>\n      <td>0.00</td>\n      <td>0.0</td>\n      <td>0.00</td>\n      <td>1.0</td>\n    </tr>\n    <tr>\n      <th>english</th>\n      <td>10000.0</td>\n      <td>0.0591</td>\n      <td>0.235824</td>\n      <td>0.0</td>\n      <td>0.00</td>\n      <td>0.0</td>\n      <td>0.00</td>\n      <td>1.0</td>\n    </tr>\n    <tr>\n      <th>geography</th>\n      <td>10000.0</td>\n      <td>0.0277</td>\n      <td>0.164120</td>\n      <td>0.0</td>\n      <td>0.00</td>\n      <td>0.0</td>\n      <td>0.00</td>\n      <td>1.0</td>\n    </tr>\n    <tr>\n      <th>history</th>\n      <td>10000.0</td>\n      <td>0.0180</td>\n      <td>0.132958</td>\n      <td>0.0</td>\n      <td>0.00</td>\n      <td>0.0</td>\n      <td>0.00</td>\n      <td>1.0</td>\n    </tr>\n    <tr>\n      <th>mean_exam_points</th>\n      <td>10000.0</td>\n      <td>64.4352</td>\n      <td>13.595024</td>\n      <td>33.0</td>\n      <td>55.00</td>\n      <td>63.0</td>\n      <td>74.00</td>\n      <td>100.0</td>\n    </tr>\n    <tr>\n      <th>choose</th>\n      <td>10000.0</td>\n      <td>0.1109</td>\n      <td>0.314024</td>\n      <td>0.0</td>\n      <td>0.00</td>\n      <td>0.0</td>\n      <td>0.00</td>\n      <td>1.0</td>\n    </tr>\n  </tbody>\n</table>\n</div>"
     },
     "metadata": {},
     "execution_count": 4
    }
   ],
   "source": [
    "df.describe().T"
   ]
  },
  {
   "cell_type": "code",
   "execution_count": 5,
   "metadata": {},
   "outputs": [
    {
     "output_type": "execute_result",
     "data": {
      "text/plain": [
       "                       count        mean          std      min       25%  \\\n",
       "Id                   10000.0  14999.5000  2886.895680  10000.0  12499.75   \n",
       "age                  10000.0     45.9245     8.031977     23.0     41.00   \n",
       "years_of_experience  10000.0      1.9857     1.771217      0.0      0.00   \n",
       "lesson_price         10000.0   1699.9100   526.260094    300.0   1300.00   \n",
       "qualification        10000.0      1.7023     0.789644      1.0      1.00   \n",
       "physics              10000.0      0.3721     0.483389      0.0      0.00   \n",
       "chemistry            10000.0      0.1281     0.334218      0.0      0.00   \n",
       "biology              10000.0      0.1158     0.320001      0.0      0.00   \n",
       "english              10000.0      0.0490     0.215879      0.0      0.00   \n",
       "geography            10000.0      0.0292     0.168375      0.0      0.00   \n",
       "history              10000.0      0.0151     0.121957      0.0      0.00   \n",
       "mean_exam_points     10000.0     64.1494    13.570096     32.0     55.00   \n",
       "\n",
       "                         50%       75%      max  \n",
       "Id                   14999.5  17499.25  19999.0  \n",
       "age                     46.0     51.00     68.0  \n",
       "years_of_experience      2.0      3.00      9.0  \n",
       "lesson_price          1550.0   2150.00   3950.0  \n",
       "qualification            1.5      2.00      4.0  \n",
       "physics                  0.0      1.00      1.0  \n",
       "chemistry                0.0      0.00      1.0  \n",
       "biology                  0.0      0.00      1.0  \n",
       "english                  0.0      0.00      1.0  \n",
       "geography                0.0      0.00      1.0  \n",
       "history                  0.0      0.00      1.0  \n",
       "mean_exam_points        63.0     73.00     98.0  "
      ],
      "text/html": "<div>\n<style scoped>\n    .dataframe tbody tr th:only-of-type {\n        vertical-align: middle;\n    }\n\n    .dataframe tbody tr th {\n        vertical-align: top;\n    }\n\n    .dataframe thead th {\n        text-align: right;\n    }\n</style>\n<table border=\"1\" class=\"dataframe\">\n  <thead>\n    <tr style=\"text-align: right;\">\n      <th></th>\n      <th>count</th>\n      <th>mean</th>\n      <th>std</th>\n      <th>min</th>\n      <th>25%</th>\n      <th>50%</th>\n      <th>75%</th>\n      <th>max</th>\n    </tr>\n  </thead>\n  <tbody>\n    <tr>\n      <th>Id</th>\n      <td>10000.0</td>\n      <td>14999.5000</td>\n      <td>2886.895680</td>\n      <td>10000.0</td>\n      <td>12499.75</td>\n      <td>14999.5</td>\n      <td>17499.25</td>\n      <td>19999.0</td>\n    </tr>\n    <tr>\n      <th>age</th>\n      <td>10000.0</td>\n      <td>45.9245</td>\n      <td>8.031977</td>\n      <td>23.0</td>\n      <td>41.00</td>\n      <td>46.0</td>\n      <td>51.00</td>\n      <td>68.0</td>\n    </tr>\n    <tr>\n      <th>years_of_experience</th>\n      <td>10000.0</td>\n      <td>1.9857</td>\n      <td>1.771217</td>\n      <td>0.0</td>\n      <td>0.00</td>\n      <td>2.0</td>\n      <td>3.00</td>\n      <td>9.0</td>\n    </tr>\n    <tr>\n      <th>lesson_price</th>\n      <td>10000.0</td>\n      <td>1699.9100</td>\n      <td>526.260094</td>\n      <td>300.0</td>\n      <td>1300.00</td>\n      <td>1550.0</td>\n      <td>2150.00</td>\n      <td>3950.0</td>\n    </tr>\n    <tr>\n      <th>qualification</th>\n      <td>10000.0</td>\n      <td>1.7023</td>\n      <td>0.789644</td>\n      <td>1.0</td>\n      <td>1.00</td>\n      <td>1.5</td>\n      <td>2.00</td>\n      <td>4.0</td>\n    </tr>\n    <tr>\n      <th>physics</th>\n      <td>10000.0</td>\n      <td>0.3721</td>\n      <td>0.483389</td>\n      <td>0.0</td>\n      <td>0.00</td>\n      <td>0.0</td>\n      <td>1.00</td>\n      <td>1.0</td>\n    </tr>\n    <tr>\n      <th>chemistry</th>\n      <td>10000.0</td>\n      <td>0.1281</td>\n      <td>0.334218</td>\n      <td>0.0</td>\n      <td>0.00</td>\n      <td>0.0</td>\n      <td>0.00</td>\n      <td>1.0</td>\n    </tr>\n    <tr>\n      <th>biology</th>\n      <td>10000.0</td>\n      <td>0.1158</td>\n      <td>0.320001</td>\n      <td>0.0</td>\n      <td>0.00</td>\n      <td>0.0</td>\n      <td>0.00</td>\n      <td>1.0</td>\n    </tr>\n    <tr>\n      <th>english</th>\n      <td>10000.0</td>\n      <td>0.0490</td>\n      <td>0.215879</td>\n      <td>0.0</td>\n      <td>0.00</td>\n      <td>0.0</td>\n      <td>0.00</td>\n      <td>1.0</td>\n    </tr>\n    <tr>\n      <th>geography</th>\n      <td>10000.0</td>\n      <td>0.0292</td>\n      <td>0.168375</td>\n      <td>0.0</td>\n      <td>0.00</td>\n      <td>0.0</td>\n      <td>0.00</td>\n      <td>1.0</td>\n    </tr>\n    <tr>\n      <th>history</th>\n      <td>10000.0</td>\n      <td>0.0151</td>\n      <td>0.121957</td>\n      <td>0.0</td>\n      <td>0.00</td>\n      <td>0.0</td>\n      <td>0.00</td>\n      <td>1.0</td>\n    </tr>\n    <tr>\n      <th>mean_exam_points</th>\n      <td>10000.0</td>\n      <td>64.1494</td>\n      <td>13.570096</td>\n      <td>32.0</td>\n      <td>55.00</td>\n      <td>63.0</td>\n      <td>73.00</td>\n      <td>98.0</td>\n    </tr>\n  </tbody>\n</table>\n</div>"
     },
     "metadata": {},
     "execution_count": 5
    }
   ],
   "source": [
    "df_test.describe().T"
   ]
  },
  {
   "source": [
    "Мы видим что данные без пропусков и выбросов."
   ],
   "cell_type": "markdown",
   "metadata": {}
  },
  {
   "cell_type": "code",
   "execution_count": 6,
   "metadata": {},
   "outputs": [
    {
     "output_type": "execute_result",
     "data": {
      "text/plain": [
       "                      count         mean          std    min     25%     50%  \\\n",
       "Id                   1109.0  5097.932372  2822.530435    1.0  2694.0  5138.0   \n",
       "age                  1109.0    46.191163     8.062900   23.0    41.0    46.0   \n",
       "years_of_experience  1109.0     2.119928     1.845829    0.0     0.0     2.0   \n",
       "lesson_price         1109.0  1503.697024   476.524574  200.0  1200.0  1400.0   \n",
       "qualification        1109.0     1.819657     0.851804    1.0     1.0     2.0   \n",
       "physics              1109.0     0.637511     0.480936    0.0     0.0     1.0   \n",
       "chemistry            1109.0     0.206492     0.404971    0.0     0.0     0.0   \n",
       "biology              1109.0     0.182146     0.386139    0.0     0.0     0.0   \n",
       "english              1109.0     0.073940     0.261792    0.0     0.0     0.0   \n",
       "geography            1109.0     0.030658     0.172468    0.0     0.0     0.0   \n",
       "history              1109.0     0.016231     0.126419    0.0     0.0     0.0   \n",
       "mean_exam_points     1109.0    68.646528    11.589451   41.0    60.0    67.0   \n",
       "choose               1109.0     1.000000     0.000000    1.0     1.0     1.0   \n",
       "\n",
       "                        75%     max  \n",
       "Id                   7531.0  9968.0  \n",
       "age                    52.0    68.0  \n",
       "years_of_experience     3.0     8.0  \n",
       "lesson_price         1800.0  3000.0  \n",
       "qualification           3.0     4.0  \n",
       "physics                 1.0     1.0  \n",
       "chemistry               0.0     1.0  \n",
       "biology                 0.0     1.0  \n",
       "english                 0.0     1.0  \n",
       "geography               0.0     1.0  \n",
       "history                 0.0     1.0  \n",
       "mean_exam_points       76.0    98.0  \n",
       "choose                  1.0     1.0  "
      ],
      "text/html": "<div>\n<style scoped>\n    .dataframe tbody tr th:only-of-type {\n        vertical-align: middle;\n    }\n\n    .dataframe tbody tr th {\n        vertical-align: top;\n    }\n\n    .dataframe thead th {\n        text-align: right;\n    }\n</style>\n<table border=\"1\" class=\"dataframe\">\n  <thead>\n    <tr style=\"text-align: right;\">\n      <th></th>\n      <th>count</th>\n      <th>mean</th>\n      <th>std</th>\n      <th>min</th>\n      <th>25%</th>\n      <th>50%</th>\n      <th>75%</th>\n      <th>max</th>\n    </tr>\n  </thead>\n  <tbody>\n    <tr>\n      <th>Id</th>\n      <td>1109.0</td>\n      <td>5097.932372</td>\n      <td>2822.530435</td>\n      <td>1.0</td>\n      <td>2694.0</td>\n      <td>5138.0</td>\n      <td>7531.0</td>\n      <td>9968.0</td>\n    </tr>\n    <tr>\n      <th>age</th>\n      <td>1109.0</td>\n      <td>46.191163</td>\n      <td>8.062900</td>\n      <td>23.0</td>\n      <td>41.0</td>\n      <td>46.0</td>\n      <td>52.0</td>\n      <td>68.0</td>\n    </tr>\n    <tr>\n      <th>years_of_experience</th>\n      <td>1109.0</td>\n      <td>2.119928</td>\n      <td>1.845829</td>\n      <td>0.0</td>\n      <td>0.0</td>\n      <td>2.0</td>\n      <td>3.0</td>\n      <td>8.0</td>\n    </tr>\n    <tr>\n      <th>lesson_price</th>\n      <td>1109.0</td>\n      <td>1503.697024</td>\n      <td>476.524574</td>\n      <td>200.0</td>\n      <td>1200.0</td>\n      <td>1400.0</td>\n      <td>1800.0</td>\n      <td>3000.0</td>\n    </tr>\n    <tr>\n      <th>qualification</th>\n      <td>1109.0</td>\n      <td>1.819657</td>\n      <td>0.851804</td>\n      <td>1.0</td>\n      <td>1.0</td>\n      <td>2.0</td>\n      <td>3.0</td>\n      <td>4.0</td>\n    </tr>\n    <tr>\n      <th>physics</th>\n      <td>1109.0</td>\n      <td>0.637511</td>\n      <td>0.480936</td>\n      <td>0.0</td>\n      <td>0.0</td>\n      <td>1.0</td>\n      <td>1.0</td>\n      <td>1.0</td>\n    </tr>\n    <tr>\n      <th>chemistry</th>\n      <td>1109.0</td>\n      <td>0.206492</td>\n      <td>0.404971</td>\n      <td>0.0</td>\n      <td>0.0</td>\n      <td>0.0</td>\n      <td>0.0</td>\n      <td>1.0</td>\n    </tr>\n    <tr>\n      <th>biology</th>\n      <td>1109.0</td>\n      <td>0.182146</td>\n      <td>0.386139</td>\n      <td>0.0</td>\n      <td>0.0</td>\n      <td>0.0</td>\n      <td>0.0</td>\n      <td>1.0</td>\n    </tr>\n    <tr>\n      <th>english</th>\n      <td>1109.0</td>\n      <td>0.073940</td>\n      <td>0.261792</td>\n      <td>0.0</td>\n      <td>0.0</td>\n      <td>0.0</td>\n      <td>0.0</td>\n      <td>1.0</td>\n    </tr>\n    <tr>\n      <th>geography</th>\n      <td>1109.0</td>\n      <td>0.030658</td>\n      <td>0.172468</td>\n      <td>0.0</td>\n      <td>0.0</td>\n      <td>0.0</td>\n      <td>0.0</td>\n      <td>1.0</td>\n    </tr>\n    <tr>\n      <th>history</th>\n      <td>1109.0</td>\n      <td>0.016231</td>\n      <td>0.126419</td>\n      <td>0.0</td>\n      <td>0.0</td>\n      <td>0.0</td>\n      <td>0.0</td>\n      <td>1.0</td>\n    </tr>\n    <tr>\n      <th>mean_exam_points</th>\n      <td>1109.0</td>\n      <td>68.646528</td>\n      <td>11.589451</td>\n      <td>41.0</td>\n      <td>60.0</td>\n      <td>67.0</td>\n      <td>76.0</td>\n      <td>98.0</td>\n    </tr>\n    <tr>\n      <th>choose</th>\n      <td>1109.0</td>\n      <td>1.000000</td>\n      <td>0.000000</td>\n      <td>1.0</td>\n      <td>1.0</td>\n      <td>1.0</td>\n      <td>1.0</td>\n      <td>1.0</td>\n    </tr>\n  </tbody>\n</table>\n</div>"
     },
     "metadata": {},
     "execution_count": 6
    }
   ],
   "source": [
    "df[df['choose'] == 1].describe().T"
   ]
  },
  {
   "cell_type": "code",
   "execution_count": 7,
   "metadata": {},
   "outputs": [
    {
     "output_type": "execute_result",
     "data": {
      "text/plain": [
       "                      count         mean          std    min     25%     50%  \\\n",
       "Id                   8891.0  4987.222247  2894.744626    0.0  2471.5  4976.0   \n",
       "age                  8891.0    45.752221     8.025319   23.0    40.0    46.0   \n",
       "years_of_experience  8891.0     1.956698     1.756054    0.0     0.0     2.0   \n",
       "lesson_price         8891.0  1727.229783   524.153146  200.0  1350.0  1550.0   \n",
       "qualification        8891.0     1.712406     0.791236    1.0     1.0     2.0   \n",
       "physics              8891.0     0.337307     0.472817    0.0     0.0     0.0   \n",
       "chemistry            8891.0     0.110899     0.314024    0.0     0.0     0.0   \n",
       "biology              8891.0     0.109099     0.311781    0.0     0.0     0.0   \n",
       "english              8891.0     0.057249     0.232331    0.0     0.0     0.0   \n",
       "geography            8891.0     0.027331     0.163055    0.0     0.0     0.0   \n",
       "history              8891.0     0.018221     0.133756    0.0     0.0     0.0   \n",
       "mean_exam_points     8891.0    63.909909    13.735075   33.0    54.0    63.0   \n",
       "choose               8891.0     0.000000     0.000000    0.0     0.0     0.0   \n",
       "\n",
       "                        75%     max  \n",
       "Id                   7495.5  9999.0  \n",
       "age                    51.0    68.0  \n",
       "years_of_experience     3.0     9.0  \n",
       "lesson_price         2150.0  3950.0  \n",
       "qualification           2.0     4.0  \n",
       "physics                 1.0     1.0  \n",
       "chemistry               0.0     1.0  \n",
       "biology                 0.0     1.0  \n",
       "english                 0.0     1.0  \n",
       "geography               0.0     1.0  \n",
       "history                 0.0     1.0  \n",
       "mean_exam_points       73.0   100.0  \n",
       "choose                  0.0     0.0  "
      ],
      "text/html": "<div>\n<style scoped>\n    .dataframe tbody tr th:only-of-type {\n        vertical-align: middle;\n    }\n\n    .dataframe tbody tr th {\n        vertical-align: top;\n    }\n\n    .dataframe thead th {\n        text-align: right;\n    }\n</style>\n<table border=\"1\" class=\"dataframe\">\n  <thead>\n    <tr style=\"text-align: right;\">\n      <th></th>\n      <th>count</th>\n      <th>mean</th>\n      <th>std</th>\n      <th>min</th>\n      <th>25%</th>\n      <th>50%</th>\n      <th>75%</th>\n      <th>max</th>\n    </tr>\n  </thead>\n  <tbody>\n    <tr>\n      <th>Id</th>\n      <td>8891.0</td>\n      <td>4987.222247</td>\n      <td>2894.744626</td>\n      <td>0.0</td>\n      <td>2471.5</td>\n      <td>4976.0</td>\n      <td>7495.5</td>\n      <td>9999.0</td>\n    </tr>\n    <tr>\n      <th>age</th>\n      <td>8891.0</td>\n      <td>45.752221</td>\n      <td>8.025319</td>\n      <td>23.0</td>\n      <td>40.0</td>\n      <td>46.0</td>\n      <td>51.0</td>\n      <td>68.0</td>\n    </tr>\n    <tr>\n      <th>years_of_experience</th>\n      <td>8891.0</td>\n      <td>1.956698</td>\n      <td>1.756054</td>\n      <td>0.0</td>\n      <td>0.0</td>\n      <td>2.0</td>\n      <td>3.0</td>\n      <td>9.0</td>\n    </tr>\n    <tr>\n      <th>lesson_price</th>\n      <td>8891.0</td>\n      <td>1727.229783</td>\n      <td>524.153146</td>\n      <td>200.0</td>\n      <td>1350.0</td>\n      <td>1550.0</td>\n      <td>2150.0</td>\n      <td>3950.0</td>\n    </tr>\n    <tr>\n      <th>qualification</th>\n      <td>8891.0</td>\n      <td>1.712406</td>\n      <td>0.791236</td>\n      <td>1.0</td>\n      <td>1.0</td>\n      <td>2.0</td>\n      <td>2.0</td>\n      <td>4.0</td>\n    </tr>\n    <tr>\n      <th>physics</th>\n      <td>8891.0</td>\n      <td>0.337307</td>\n      <td>0.472817</td>\n      <td>0.0</td>\n      <td>0.0</td>\n      <td>0.0</td>\n      <td>1.0</td>\n      <td>1.0</td>\n    </tr>\n    <tr>\n      <th>chemistry</th>\n      <td>8891.0</td>\n      <td>0.110899</td>\n      <td>0.314024</td>\n      <td>0.0</td>\n      <td>0.0</td>\n      <td>0.0</td>\n      <td>0.0</td>\n      <td>1.0</td>\n    </tr>\n    <tr>\n      <th>biology</th>\n      <td>8891.0</td>\n      <td>0.109099</td>\n      <td>0.311781</td>\n      <td>0.0</td>\n      <td>0.0</td>\n      <td>0.0</td>\n      <td>0.0</td>\n      <td>1.0</td>\n    </tr>\n    <tr>\n      <th>english</th>\n      <td>8891.0</td>\n      <td>0.057249</td>\n      <td>0.232331</td>\n      <td>0.0</td>\n      <td>0.0</td>\n      <td>0.0</td>\n      <td>0.0</td>\n      <td>1.0</td>\n    </tr>\n    <tr>\n      <th>geography</th>\n      <td>8891.0</td>\n      <td>0.027331</td>\n      <td>0.163055</td>\n      <td>0.0</td>\n      <td>0.0</td>\n      <td>0.0</td>\n      <td>0.0</td>\n      <td>1.0</td>\n    </tr>\n    <tr>\n      <th>history</th>\n      <td>8891.0</td>\n      <td>0.018221</td>\n      <td>0.133756</td>\n      <td>0.0</td>\n      <td>0.0</td>\n      <td>0.0</td>\n      <td>0.0</td>\n      <td>1.0</td>\n    </tr>\n    <tr>\n      <th>mean_exam_points</th>\n      <td>8891.0</td>\n      <td>63.909909</td>\n      <td>13.735075</td>\n      <td>33.0</td>\n      <td>54.0</td>\n      <td>63.0</td>\n      <td>73.0</td>\n      <td>100.0</td>\n    </tr>\n    <tr>\n      <th>choose</th>\n      <td>8891.0</td>\n      <td>0.000000</td>\n      <td>0.000000</td>\n      <td>0.0</td>\n      <td>0.0</td>\n      <td>0.0</td>\n      <td>0.0</td>\n      <td>0.0</td>\n    </tr>\n  </tbody>\n</table>\n</div>"
     },
     "metadata": {},
     "execution_count": 7
    }
   ],
   "source": [
    "df[df['choose'] == 0].describe().T"
   ]
  },
  {
   "source": [
    "Данные серьезно не сбалансированы. класс = 1 представлен в гораздо меньшем числе примеров. Как я понял, есть 2 способа с этим бороться.\n",
    "\n",
    "1. Добавить примеров с недостающим классом(что я и сделал)\n",
    "\n",
    "2. Уменьшить класс которого много(но тут есть проблема с тем что может оказаться слишком мало данных.)\n",
    "\n",
    "Я попробовал оба варианта. В первом случае максимум добился 0.76, во втором 0.73(так же я уменьшил количество признаков оставив только самые важные так как, оказалось слишком мало примеров.)\n",
    "\n",
    "Так же видно, что  сердние значения physics, lesson_price, mean_exam_points cильно меняются в зависимости от класса."
   ],
   "cell_type": "markdown",
   "metadata": {}
  },
  {
   "source": [
    "Я создавал кучу новых признаков, ни один из них не дал особого прироста в оценке, это только часть того что было проверено. Причем, пытался создавать новые удаляя старые, так и оставляя старые, результаты были примерно одинаковые. Новые признаки просто отбирали часть информации у старых."
   ],
   "cell_type": "markdown",
   "metadata": {}
  },
  {
   "source": [
    "Так же построил очень красивый график, того как окрелируют между собой признаки, но он весил 80 мегобайт, так что решил его не выкладывать на гитхаб. В нем была видна примерно таже информация что и в describe-ах первого и нулевого классов. ниже код для графика."
   ],
   "cell_type": "markdown",
   "metadata": {}
  },
  {
   "cell_type": "code",
   "execution_count": 8,
   "metadata": {},
   "outputs": [],
   "source": [
    "# g = sns.PairGrid(df, hue='choose')\n",
    "# g.map_diag(sns.histplot)\n",
    "# g.map_offdiag(sns.scatterplot)\n",
    "# g.add_legend()"
   ]
  },
  {
   "cell_type": "code",
   "execution_count": 9,
   "metadata": {},
   "outputs": [],
   "source": [
    "df['subject'] = df['history'] + df['english'] + df['biology'] + df['geography']\n",
    "df_test['subject'] = df_test['history'] + df_test['english'] + df_test['biology'] + df_test['geography']\n",
    "\n",
    "df.loc[df['subject'] > 0, 'subject'] = 1\n",
    "df_test.loc[df_test['subject'] > 0, 'subject'] = 1\n",
    "\n",
    "# # categories = ('english', 'chemistry','biology', 'geography')\n",
    "# categories = ('chemistry','biology','physics')\n",
    "# to_mult = 'mean_exam_points'\n",
    "# df = multiply(df, categories, to_mult)\n",
    "# df_test = multiply(df_test, categories, to_mult)\n",
    "\n",
    "\n",
    "# categories = ('chemistry','biology','physics')\n",
    "# to_mult = 'lesson_price'\n",
    "# df = multiply(df, categories, to_mult)\n",
    "# df_test = multiply(df_test, categories, to_mult)\n",
    "\n",
    "# categories = ('chemistry','biology','physics')\n",
    "# to_mult = 'years_of_experience'\n",
    "# df = multiply(df, categories, to_mult)\n",
    "# df_test = multiply(df_test, categories, to_mult)\n",
    "\n",
    "# categories = ('chemistry','biology','physics')\n",
    "# to_mult = 'qualification'\n",
    "# df = multiply(df, categories, to_mult)\n",
    "# df_test = multiply(df_test, categories, to_mult)\n",
    "\n",
    "\n",
    "\n",
    "# df['age1'] = df['age'] // 10 * 10\n",
    "# df_test['age1'] = df_test['age'] // 10 * 10\n",
    "\n",
    "# df['lesson_price1'] = df['lesson_price'] // 1000 * 1000\n",
    "# df_test['lesson_price1'] = df_test['lesson_price'] // 1000 * 1000\n",
    "\n"
   ]
  },
  {
   "source": [
    "Нам не нужно стандартизовывать, или нормализовывать признаки так как Random Forest не зависит от этого."
   ],
   "cell_type": "markdown",
   "metadata": {}
  },
  {
   "source": [
    "Избавляемся от признаков которые в процессе оказались бесполезными в этой модели. Можно избавиться практически от всего оставив только physics, lesson_price, mean_exam_points. Это практически не повлияет на результат."
   ],
   "cell_type": "markdown",
   "metadata": {}
  },
  {
   "cell_type": "code",
   "execution_count": 10,
   "metadata": {},
   "outputs": [],
   "source": [
    "to_pop = ('Id','english', 'geography','history','biology')\n",
    "df = pop(df, to_pop)\n",
    "df_test = pop(df_test, to_pop)"
   ]
  },
  {
   "source": [
    "Как выяснилось в процессе, если у нас несбалансированные данные, то деревья обучаются очень плохо, так как большой шанс что в выборку бутсрепа попадет очень мало примеров с редким классом. Поэтому я воспользовался добавлением примеров недостающего класса. Как я понимаю это приводит к тому что деревья слишком сильно подстраиваются к определенным значениям класса один так как они продублированы 7 раз. И даже большое количество деревьев не позваляет справиться с такой переобученостью."
   ],
   "cell_type": "markdown",
   "metadata": {}
  },
  {
   "cell_type": "code",
   "execution_count": 11,
   "metadata": {},
   "outputs": [],
   "source": [
    "df_class_one = df[df['choose'] == 1]\n",
    "for i in range(7):\n",
    "    df=pd.concat((df, df_class_one), ignore_index=True)"
   ]
  },
  {
   "source": [
    "формируем numpy массивы из dataframe для использования в нашем алгоритме."
   ],
   "cell_type": "markdown",
   "metadata": {}
  },
  {
   "cell_type": "code",
   "execution_count": null,
   "metadata": {},
   "outputs": [],
   "source": []
  },
  {
   "cell_type": "code",
   "execution_count": 12,
   "metadata": {},
   "outputs": [],
   "source": [
    "y = np.array(df.pop('choose'))\n",
    "X = np.array(df)\n",
    "for_predict = np.array(df_test)"
   ]
  },
  {
   "cell_type": "code",
   "execution_count": 13,
   "metadata": {},
   "outputs": [
    {
     "output_type": "execute_result",
     "data": {
      "text/plain": [
       "((17763,), (17763, 8), (10000, 8))"
      ]
     },
     "metadata": {},
     "execution_count": 13
    }
   ],
   "source": [
    "y.shape, X.shape, for_predict.shape"
   ]
  },
  {
   "cell_type": "code",
   "execution_count": 14,
   "metadata": {},
   "outputs": [],
   "source": [
    "class Node:\n",
    "    \n",
    "    def __init__(self, index, t, true_branch, false_branch):\n",
    "        self.index = index  # индекс признака, по которому ведется сравнение с порогом в этом узле\n",
    "        self.t = t  # значение порога\n",
    "        self.true_branch = true_branch  # поддерево, удовлетворяющее условию в узле\n",
    "        self.false_branch = false_branch  # поддерево, не удовлетворяющее условию в узле"
   ]
  },
  {
   "cell_type": "code",
   "execution_count": 15,
   "metadata": {},
   "outputs": [],
   "source": [
    "def get_bootstrap(data, labels, N):\n",
    "    n_samples = data.shape[0]\n",
    "    bootstrap = []\n",
    "    oob = []\n",
    "    \n",
    "    \n",
    "    for i in range(N):\n",
    "        b_data = np.zeros(data.shape)\n",
    "        b_labels = np.zeros(labels.shape)\n",
    "        # oob_data = []\n",
    "        # oob_labels = []\n",
    "        b_index = set()\n",
    "        for j in range(n_samples):\n",
    "            sample_index = np.random.randint(0, n_samples-1)\n",
    "            b_index.add(sample_index)\n",
    "            b_data[j] = data[sample_index]\n",
    "            b_labels[j] = labels[sample_index]\n",
    "\n",
    "        bootstrap.append((b_data, b_labels))\n",
    "\n",
    "        oob.append(set(range(data.shape[0])).difference(b_index))\n",
    "\n",
    "\n",
    "    return bootstrap, oob"
   ]
  },
  {
   "cell_type": "code",
   "execution_count": 16,
   "metadata": {},
   "outputs": [],
   "source": [
    "def get_subsample(len_sample):\n",
    "    # будем сохранять не сами признаки, а их индексы\n",
    "    sample_indexes = [i for i in range(len_sample)]\n",
    "    \n",
    "    len_subsample = int(np.sqrt(len_sample))\n",
    "    subsample = []\n",
    "    \n",
    "    np.random.shuffle(sample_indexes)\n",
    "    for _ in range(len_subsample):\n",
    "        subsample.append(sample_indexes.pop())\n",
    "        \n",
    "    return subsample"
   ]
  },
  {
   "cell_type": "code",
   "execution_count": 17,
   "metadata": {},
   "outputs": [],
   "source": [
    "class Leaf:\n",
    "    \n",
    "    def __init__(self, data, labels):\n",
    "        self.data = data\n",
    "        self.labels = labels\n",
    "        self.prediction = self.predict()\n",
    "        \n",
    "    def predict(self):\n",
    "        # подсчет количества объектов разных классов\n",
    "        classes = {}  # сформируем словарь \"класс: количество объектов\"\n",
    "        for label in self.labels:\n",
    "            if label not in classes:\n",
    "                classes[label] = 0\n",
    "            classes[label] += 1\n",
    "        #  найдем класс, количество объектов которого будет максимальным в этом листе и вернем его    \n",
    "        prediction = max(classes, key=classes.get)\n",
    "        return prediction        "
   ]
  },
  {
   "cell_type": "code",
   "execution_count": 18,
   "metadata": {},
   "outputs": [],
   "source": [
    "def gini(labels):\n",
    "    #  подсчет количества объектов разных классов\n",
    "    classes = {}\n",
    "    for label in labels:\n",
    "        if label not in classes:\n",
    "            classes[label] = 0\n",
    "        classes[label] += 1\n",
    "    \n",
    "    #  расчет критерия\n",
    "    impurity = 1\n",
    "    for label in classes:\n",
    "        p = classes[label] / len(labels)\n",
    "        impurity -= p ** 2\n",
    "        \n",
    "    return impurity"
   ]
  },
  {
   "cell_type": "code",
   "execution_count": 19,
   "metadata": {},
   "outputs": [],
   "source": [
    "def quality(left_labels, right_labels, current_gini):\n",
    "\n",
    "    # доля выбоки, ушедшая в левое поддерево\n",
    "    p = float(left_labels.shape[0]) / (left_labels.shape[0] + right_labels.shape[0])\n",
    "    \n",
    "    return current_gini - p * gini(left_labels) - (1 - p) * gini(right_labels)"
   ]
  },
  {
   "cell_type": "code",
   "execution_count": 20,
   "metadata": {},
   "outputs": [],
   "source": [
    "def split(data, labels, index, t):\n",
    "    \n",
    "    left = np.where(data[:, index] <= t)\n",
    "    right = np.where(data[:, index] > t)\n",
    "        \n",
    "    true_data = data[left]\n",
    "    false_data = data[right]\n",
    "    true_labels = labels[left]\n",
    "    false_labels = labels[right]\n",
    "        \n",
    "    return true_data, false_data, true_labels, false_labels"
   ]
  },
  {
   "source": [
    "Лучший способ борьбы который помогает но совсем немного, я нашел в увеличении минимального количество обьектов в листе до 35, таким образом мы уменьшаем переобученность нашего леса. К сожалению код оставляю примерно как в методичке, так как все время ушло на то что бы понять почему  меня такой маленький скор. и поработат над приведением кода в нормальное состояние не получилось. "
   ],
   "cell_type": "markdown",
   "metadata": {}
  },
  {
   "cell_type": "code",
   "execution_count": 21,
   "metadata": {},
   "outputs": [],
   "source": [
    "def find_best_split(data, labels):\n",
    "    \n",
    "    #  обозначим минимальное количество объектов в узле\n",
    "    min_leaf = 35\n",
    "\n",
    "    current_gini = gini(labels)\n",
    "\n",
    "    best_quality = 0\n",
    "    best_t = None\n",
    "    best_index = None\n",
    "    \n",
    "    n_features = data.shape[1]\n",
    "    \n",
    "    # выбор индекса из подвыборки длиной sqrt(n_features)\n",
    "    subsample = get_subsample(n_features)\n",
    "    \n",
    "    for index in subsample:\n",
    "        # будем проверять только уникальные значения признака, исключая повторения\n",
    "        t_values = np.unique([row[index] for row in data])\n",
    "        \n",
    "        for t in t_values:\n",
    "            true_data, false_data, true_labels, false_labels = split(data, labels, index, t)\n",
    "            #  пропускаем разбиения, в которых в узле остается менее 5 объектов\n",
    "            if len(true_data) < min_leaf or len(false_data) < min_leaf:\n",
    "                continue\n",
    "            \n",
    "            current_quality = quality(true_labels, false_labels, current_gini)\n",
    "            \n",
    "            #  выбираем порог, на котором получается максимальный прирост качества\n",
    "            if current_quality > best_quality:\n",
    "                best_quality, best_t, best_index = current_quality, t, index\n",
    "\n",
    "    return best_quality, best_t, best_index"
   ]
  },
  {
   "cell_type": "code",
   "execution_count": 22,
   "metadata": {},
   "outputs": [],
   "source": [
    "def build_tree(data, labels):\n",
    "\n",
    "    quality, t, index = find_best_split(data, labels)\n",
    "\n",
    "    #  Базовый случай - прекращаем рекурсию, когда нет прироста в качества\n",
    "    if quality == 0:\n",
    "        return Leaf(data, labels)\n",
    "\n",
    "    true_data, false_data, true_labels, false_labels = split(data, labels, index, t)\n",
    "\n",
    "    # Рекурсивно строим два поддерева\n",
    "    true_branch = build_tree(true_data, true_labels)\n",
    "    false_branch = build_tree(false_data, false_labels)\n",
    "\n",
    "    # Возвращаем класс узла со всеми поддеревьями, то есть целого дерева\n",
    "    # print(index)\n",
    "    return Node(index, t, true_branch, false_branch)"
   ]
  },
  {
   "cell_type": "code",
   "execution_count": 23,
   "metadata": {},
   "outputs": [],
   "source": [
    "def rework_oob(oob):\n",
    "    \"\"\"\n",
    "    Recive list of sets_oob_indexes.\n",
    "    Return dict of lists, where key is number from sets_oob_indexes, and list contain lines index from oob_list where this number was.\n",
    "    \"\"\"\n",
    "    d = dict()\n",
    "    for i, s in enumerate(oob):\n",
    "        for j in s:\n",
    "            if j not in d:\n",
    "                d[j] = [i]\n",
    "            else:\n",
    "                d[j].append(i)\n",
    "    return d"
   ]
  },
  {
   "cell_type": "code",
   "execution_count": 24,
   "metadata": {},
   "outputs": [],
   "source": [
    "def random_forest(data, labels, n_trees):\n",
    "    forest = []\n",
    "    bootstrap, oob_sets = get_bootstrap(data, labels, n_trees)\n",
    "\n",
    "    reworked_oob_dict = rework_oob(oob_sets)\n",
    "\n",
    "    for b_data, b_labels in bootstrap:\n",
    "        forest.append(build_tree(b_data, b_labels))\n",
    "\n",
    "    oob = 0\n",
    "    pred = []\n",
    "    # for i in reworked_oob_dict:\n",
    "    #     predictions = np.array([predict([data[i]], forest[model_index]) for model_index in reworked_oob_dict[i]])\n",
    "    #     oob += (labels[i] - predictions.mean()) ** 2\n",
    "     \n",
    "\n",
    "    return forest, oob / len(reworked_oob_dict)"
   ]
  },
  {
   "cell_type": "code",
   "execution_count": 25,
   "metadata": {},
   "outputs": [],
   "source": [
    "def classify_object(obj, node):\n",
    "    #  Останавливаем рекурсию, если достигли листа\n",
    "    if isinstance(node, Leaf):\n",
    "        answer = node.prediction\n",
    "        return answer\n",
    "    if obj[node.index] <= node.t:\n",
    "\n",
    "        return classify_object(obj, node.true_branch)\n",
    "    else:\n",
    "        return classify_object(obj, node.false_branch)"
   ]
  },
  {
   "cell_type": "code",
   "execution_count": 26,
   "metadata": {},
   "outputs": [],
   "source": [
    "def predict(data, tree):\n",
    "    \n",
    "    classes = []\n",
    "    # if isinstance(data[0], list):\n",
    "    for obj in data:\n",
    "        prediction = classify_object(obj, tree)\n",
    "        classes.append(prediction)\n",
    "    # else:\n",
    "    #     classes = [[classify_object(data, tree)]]\n",
    "    return classes"
   ]
  },
  {
   "cell_type": "code",
   "execution_count": 27,
   "metadata": {},
   "outputs": [],
   "source": [
    "def tree_vote(forest, data):\n",
    "\n",
    "    # добавим предсказания всех деревьев в список\n",
    "    predictions = []\n",
    "    for tree in forest:\n",
    "        predictions.append(predict(data, tree))\n",
    "    \n",
    "    # сформируем список с предсказаниями для каждого объекта\n",
    "    predictions_per_object = list(zip(*predictions))\n",
    "    \n",
    "    # выберем в качестве итогового предсказания для каждого объекта то,\n",
    "    # за которое проголосовало большинство деревьев\n",
    "    voted_predictions = []\n",
    "    for obj in predictions_per_object:\n",
    "        voted_predictions.append(max(set(obj), key=obj.count))\n",
    "        \n",
    "    return voted_predictions"
   ]
  },
  {
   "source": [
    "accuracy_metric оказалось крайне бесполезной метрикой для несбалансированных классов."
   ],
   "cell_type": "markdown",
   "metadata": {}
  },
  {
   "cell_type": "code",
   "execution_count": 28,
   "metadata": {},
   "outputs": [],
   "source": [
    "def accuracy_metric(actual, predicted):\n",
    "    correct = 0\n",
    "    for i in range(len(actual)):\n",
    "        if actual[i] == predicted[i]:\n",
    "            correct += 1\n",
    "    return correct / float(len(actual)) * 100.0"
   ]
  },
  {
   "source": [
    "Запускаем наш лес, в процессе стало понятно что 300 деревьев достаточно. У нас получается 2 параметра количество деревьев в лесе, и минимальное количество объектов в листе."
   ],
   "cell_type": "markdown",
   "metadata": {}
  },
  {
   "cell_type": "code",
   "execution_count": 29,
   "metadata": {},
   "outputs": [
    {
     "output_type": "stream",
     "name": "stdout",
     "text": [
      "Wall time: 10min 19s\n"
     ]
    }
   ],
   "source": [
    "%%time\n",
    "forest, oob = random_forest(X, y, n_trees=300)"
   ]
  },
  {
   "source": [
    "Дальше предсказываем наши результаты и записываем их в файл."
   ],
   "cell_type": "markdown",
   "metadata": {}
  },
  {
   "cell_type": "code",
   "execution_count": 30,
   "metadata": {},
   "outputs": [],
   "source": [
    "for_predict = np.array(df_test)"
   ]
  },
  {
   "cell_type": "code",
   "execution_count": 31,
   "metadata": {},
   "outputs": [],
   "source": [
    "for_predict = np.array(df_test)\n",
    "answers_kaggle = tree_vote(forest, for_predict)"
   ]
  },
  {
   "cell_type": "code",
   "execution_count": 32,
   "metadata": {},
   "outputs": [],
   "source": [
    "df_answers = pd.DataFrame(list(range(10000,20000)), columns=('Id',))\n",
    "df_answers['Choose']= np.round(answers_kaggle)\n",
    "df_answers.to_csv('hello.csv',sep=',', index=False)"
   ]
  },
  {
   "source": [
    "В итоге получаем 0.75437, что грустно."
   ],
   "cell_type": "markdown",
   "metadata": {}
  }
 ]
}